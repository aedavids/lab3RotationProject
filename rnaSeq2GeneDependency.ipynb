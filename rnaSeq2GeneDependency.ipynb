{
 "cells": [
  {
   "cell_type": "markdown",
   "metadata": {},
   "source": [
    "# RNA Sequence to Gene Dependency Mapper\n",
    "Train a model to map from Gene expression data to Gene Dependency data\n",
    "\n",
    "Potential clinical use, given a cancer patients RNA seq data predict their Gene Dependencies. Choose appropriate drug.\n",
    "\n",
    "One of the other uses of this notebook is to debug the deep architectures. We noticed that the validation error is often bellow the training error. This suggest a bug. see the presentation presentations/status-2020-03-13.pptx for an overview of how to debug.\n",
    "\n",
    "<span style=\"color:red\">TODO: debug using geneDependencyAutoEncoder notebook</span>\n",
    "\n",
    "- [https://machinelearningmastery.com/how-to-choose-loss-functions-when-training-deep-learning-neural-networks/](https://machinelearningmastery.com/how-to-choose-loss-functions-when-training-deep-learning-neural-networks/)\n",
    "- [https://machinelearningmastery.com/how-to-control-neural-network-model-capacity-with-nodes-and-layers/](https://machinelearningmastery.com/how-to-control-neural-network-model-capacity-with-nodes-and-layers/)\n"
   ]
  },
  {
   "cell_type": "code",
   "execution_count": 1,
   "metadata": {},
   "outputs": [],
   "source": [
    "import matplotlib.pyplot as plt\n",
    "import numpy as np\n",
    "import pandas as pd\n",
    "from sklearn.metrics import r2_score\n",
    "from sklearn.model_selection import train_test_split\n",
    "import tensorflow as tf\n",
    "from tensorflow import keras\n",
    "from tensorflow.keras.models import Sequential, Model\n",
    "from tensorflow.keras import layers\n",
    "from tensorflow.keras.layers import Dense, Input\n",
    "from tensorflow.keras import optimizers\n",
    "from tensorflow.keras.optimizers import Adam"
   ]
  },
  {
   "cell_type": "markdown",
   "metadata": {},
   "source": [
    "## load data"
   ]
  },
  {
   "cell_type": "code",
   "execution_count": 2,
   "metadata": {},
   "outputs": [],
   "source": [
    "rootDir = \"data/autoEncoder/\"\n",
    "commonGeneDepPath = rootDir + \"common_D2_Achilles_gene_dep_scores.csv\"\n",
    "commonRNASeqPath  = rootDir + \"common_RNAseq_lRPKM_data.csv\""
   ]
  },
  {
   "cell_type": "code",
   "execution_count": 3,
   "metadata": {},
   "outputs": [],
   "source": [
    "# cclbg == commonGenesByCellLine\n",
    "cclbgGeneDepDF = pd.read_csv(commonGeneDepPath)\n",
    "cclbgRNASeqDF = pd.read_csv(commonRNASeqPath)"
   ]
  },
  {
   "cell_type": "markdown",
   "metadata": {},
   "source": [
    "### conver to numpy: \n",
    "Data is genes by cell lines. We need to transpose it to cell lines by genes"
   ]
  },
  {
   "cell_type": "code",
   "execution_count": 4,
   "metadata": {},
   "outputs": [],
   "source": [
    "def transposeAndConvertToNumpy(df, verbose=False):\n",
    "    '''\n",
    "    if you dataset is genes by cell names use this function to convert it do cell names by genes\n",
    "    \n",
    "    input:\n",
    "        df: a pandas data frame\n",
    "        \n",
    "        verbose: prints debug infomation\n",
    "    '''\n",
    "    if verbose:\n",
    "        print(\"df\")\n",
    "        print(df.shape)\n",
    "        print(df.iloc[0:4, 0:4])\n",
    "        \n",
    "    retDF = df.transpose()\n",
    "    \n",
    "    if verbose:\n",
    "        print(\"\\ntransposed df\")\n",
    "        print(\"shape:{}\".format(retDF.shape))\n",
    "        print(\"sample:\\n{}\".format(commonCellLineByGeneDepDF.iloc[0:4, 0:4]))\n",
    "\n",
    "    retNp = retDF.iloc[1:, :].to_numpy().astype(np.double) # value have 17 decimal places\n",
    "    \n",
    "    if verbose:\n",
    "        print(\"\\nnumpy\")\n",
    "        print(\"return Np.shape:{}\".format(retNp.shape))\n",
    "        print(\"sample:\\n{}\".format(retNp[0:3, 0:3] ))\n",
    "\n",
    "    return retNp\n",
    " "
   ]
  },
  {
   "cell_type": "code",
   "execution_count": 5,
   "metadata": {},
   "outputs": [
    {
     "name": "stdout",
     "output_type": "stream",
     "text": [
      "cclbgRNASeqNp.dtype:float64\n",
      "average_cclbgRNASeqNp:-0.06471496262132301\n",
      "cclbgGeneDepNp.dtype:float64\n",
      "average_cclbgGeneDep:-0.06328828307250574\n"
     ]
    }
   ],
   "source": [
    "cclbgRNASeqNp = \\\n",
    "    transposeAndConvertToNumpy(cclbgRNASeqDF, verbose=False)\n",
    "print(\"cclbgRNASeqNp.dtype:{}\".format(cclbgRNASeqNp.dtype))\n",
    "\n",
    "average_cclbgRNASeqNp = np.mean(cclbgRNASeqNp)\n",
    "print(\"average_cclbgRNASeqNp:{}\".format(average_cclbgRNASeqNp))\n",
    "\n",
    "cclbgGeneDepNp = \\\n",
    "    transposeAndConvertToNumpy(cclbgGeneDepDF, verbose=False)\n",
    "print(\"cclbgGeneDepNp.dtype:{}\".format(cclbgGeneDepNp.dtype))\n",
    "\n",
    "average_cclbgGeneDep = np.mean(cclbgGeneDepNp)\n",
    "print(\"average_cclbgGeneDep:{}\".format(average_cclbgGeneDep))"
   ]
  },
  {
   "cell_type": "code",
   "execution_count": 6,
   "metadata": {},
   "outputs": [],
   "source": [
    "# do not hold on to memory accidentally\n",
    "cclbgGeneDepDF = None\n",
    "cclbgRNASeqDF = None"
   ]
  },
  {
   "cell_type": "markdown",
   "metadata": {},
   "source": [
    "## split into test and train sets\n",
    "<span style=\"color:red\">TODO: AEDWIP: create train, validation, and test sets</span>"
   ]
  },
  {
   "cell_type": "code",
   "execution_count": 7,
   "metadata": {},
   "outputs": [],
   "source": [
    "cclbgRNASeqTrainXNp, cclbgRNASeqTestXNp, \\\n",
    "    cclbgDepTrainYNp, cclbgGeneDepTestYNp = \\\n",
    "        train_test_split( cclbgRNASeqNp, cclbgGeneDepNp, \\\n",
    "                     test_size=0.1, random_state=42)"
   ]
  },
  {
   "cell_type": "code",
   "execution_count": 8,
   "metadata": {},
   "outputs": [
    {
     "name": "stdout",
     "output_type": "stream",
     "text": [
      "cclbgRNASeqTrainXNp.shape: (437, 10499)\n",
      "cclbgRNASeqTestXNp.shape:  (49, 10499)\n",
      "\n",
      "cclbgDepTrainYNp.shape:(437, 10499)\n",
      "cclbgGeneDepTestYNp.shape: (49, 10499)\n"
     ]
    }
   ],
   "source": [
    "print(\"cclbgRNASeqTrainXNp.shape: {}\".format(cclbgRNASeqTrainXNp.shape))\n",
    "print(\"cclbgRNASeqTestXNp.shape:  {}\".format(cclbgRNASeqTestXNp.shape))\n",
    "print()\n",
    "print(\"cclbgDepTrainYNp.shape:{}\".format(cclbgDepTrainYNp.shape))\n",
    "print(\"cclbgGeneDepTestYNp.shape: {}\".format(cclbgGeneDepTestYNp.shape))"
   ]
  },
  {
   "cell_type": "markdown",
   "metadata": {},
   "source": [
    "# Create Auto Encoder Model and Architecture"
   ]
  },
  {
   "cell_type": "code",
   "execution_count": 9,
   "metadata": {},
   "outputs": [],
   "source": [
    "def buggyArchPart1():\n",
    "    '''\n",
    "    https://blog.keras.io/building-autoencoders-in-keras.html\n",
    "    \n",
    "    the autoencoder will make predictions,\n",
    "    the decoder model will make predictions\n",
    "    the encoder returns zero\n",
    "    '''\n",
    "    numExamples, numFeatures = cclbgRNASeqTrainXNp.shape\n",
    "    print(\"numExamples:{} numFeatures:{}\".format(numExamples, numFeatures))\n",
    "    encodingDim = 20 #1000\n",
    "\n",
    "    # create a trival autoencoder model\n",
    "    inputCellLineLayer = Input(shape=(numFeatures,))\n",
    "    encoderLayer       = Dense(encodingDim, activation='relu')(inputCellLineLayer)\n",
    "    decoderLayer       = Dense(numFeatures, activation='relu')(encoderLayer)\n",
    "\n",
    "    # input ->encode -> decode\n",
    "    autoencoderModel = Model(inputs=inputCellLineLayer, outputs=decoderLayer) \n",
    "\n",
    "    # # create that just encodes\n",
    "    # # input -> encode\n",
    "    # this looks like a bug the encoderLayer is already connected to an input\n",
    "    # encoderModel = Model(inputs=inputCellLineLayer, outputs=encoderLayer) \n",
    "\n",
    "    # # create model that decodes\n",
    "    # # encodingDimInput -> decode numFeatures\n",
    "    # encodedInputLayer = Input(shape=(encodingDim,))\n",
    "    # # is this a bug? can we use the same layer connected to different inputs\n",
    "    # decoderLayer = autoencoderModel.layers[-1] # fetch the layer\n",
    "\n",
    "    # decoderModel = Model(inputs=encodedInputLayer, outputs=decoderLayer(encodedInputLayer))\n",
    "\n",
    "    autoencoderModel.compile(loss='mean_squared_error', optimizer = Adam())\n",
    "    \n",
    "    return autoencoderModel"
   ]
  },
  {
   "cell_type": "code",
   "execution_count": 10,
   "metadata": {},
   "outputs": [],
   "source": [
    "def buggyArchPart2():\n",
    "    '''\n",
    "    https://blog.keras.io/building-autoencoders-in-keras.html\n",
    "    \n",
    "    the autoencoder will make predictions,\n",
    "    the decoder model will make predictions\n",
    "    the encoder returns zero\n",
    "    '''\n",
    "    numExamples, numFeatures = cclbgRNASeqTrainXNp.shape\n",
    "    print(\"numExamples:{} numFeatures:{}\".format(numExamples, numFeatures))\n",
    "    encodingDim = 20 #1000\n",
    "\n",
    "    # create a trival autoencoder model\n",
    "    inputCellLineLayer = Input(shape=(numFeatures,))\n",
    "    encoderLayer       = Dense(encodingDim, activation='relu')(inputCellLineLayer)\n",
    "    decoderLayer       = Dense(numFeatures, activation='relu')(encoderLayer)\n",
    "\n",
    "    # input ->encode -> decode\n",
    "    autoencoderModel = Model(inputs=inputCellLineLayer, outputs=decoderLayer) \n",
    "\n",
    "    # # create that just encodes\n",
    "    # # input -> encode\n",
    "    # this looks like a bug the encoderLayer is already connected to an input\n",
    "    encoderModel = Model(inputs=inputCellLineLayer, outputs=encoderLayer) \n",
    "\n",
    "    # # create model that decodes\n",
    "    # # encodingDimInput -> decode numFeatures\n",
    "    encodedInputLayer = Input(shape=(encodingDim,))\n",
    "    # # is this a bug? can we use the same layer connected to different inputs\n",
    "    decoderLayer = autoencoderModel.layers[-1] # fetch the layer\n",
    "\n",
    "    decoderModel = Model(inputs=encodedInputLayer, outputs=decoderLayer(encodedInputLayer))\n",
    "\n",
    "    autoencoderModel.compile(loss='mean_squared_error', optimizer = Adam())\n",
    "    \n",
    "    return autoencoderModel, encoderModel, decoderModel"
   ]
  },
  {
   "cell_type": "code",
   "execution_count": 11,
   "metadata": {},
   "outputs": [],
   "source": [
    "def trivalArch():\n",
    "    \n",
    "    numExamples, numFeatures = cclbgRNASeqTrainXNp.shape\n",
    "    print(\"numExamples:{} numFeatures:{}\".format(numExamples, numFeatures))\n",
    "    encodingDim = 20\n",
    "\n",
    "    autoencoderModel = Sequential()\n",
    "    autoencoderModel.add( Dense(encodingDim, activation='relu', name=\"encoder\", input_shape=(numFeatures,)) )\n",
    "    autoencoderModel.add( Dense(numFeatures, activation='relu', name=\"decoder\") )\n",
    "\n",
    "    autoencoderModel.compile(loss='mean_squared_error', optimizer = Adam())\n",
    "    return autoencoderModel"
   ]
  },
  {
   "cell_type": "code",
   "execution_count": 12,
   "metadata": {},
   "outputs": [],
   "source": [
    "def multiLayerArch(metrics=['accuracy', 'mse']):\n",
    "    '''\n",
    "    https://www.tensorflow.org/api_docs/python/tf/keras/metrics\n",
    "\n",
    "    '''\n",
    "    numExamples, numFeatures = cclbgRNASeqTrainXNp.shape\n",
    "    # our low rank matrix factorization model worked best with 19 features\n",
    "    encodingDim = 64 #128 # 64 #50 # 20 #100 #20\n",
    "    print(\"numExamples:{} numFeatures:{} encodingDim:{}\".format(numExamples, numFeatures, encodingDim))\n",
    "\n",
    "    autoencoderModel = Sequential()\n",
    "\n",
    "    # adding an input layer this way instead of using input_shape argument\n",
    "    # of first layer makes it easier to change the arch\n",
    "    autoencoderModel.add(Input(shape=(numFeatures,), name=\"input\"))\n",
    "\n",
    "    autoencoderModel.add(Dense(1024, activation='relu', name=\"e1024\"))\n",
    "    autoencoderModel.add(Dense( 512, activation='relu', name=\"e512\"))\n",
    "    autoencoderModel.add(Dense( 256, activation='relu', name=\"e256\"))\n",
    "    autoencoderModel.add(Dense( 128, activation='relu', name=\"e128\"))\n",
    "\n",
    "    #autoencoderModel.add(Dense(encodingDim,    activation='linear', name=\"bottleneck\"))\n",
    "    autoencoderModel.add(Dense(encodingDim,    activation='relu', name=\"bottleneck\"))\n",
    "\n",
    "    # decoder part of model\n",
    "    autoencoderModel.add(Dense( 128, activation='relu', name=\"d128\"))\n",
    "    autoencoderModel.add(Dense( 256, activation='relu', name=\"d256\"))\n",
    "    autoencoderModel.add(Dense( 512, activation='relu', name=\"d512\"))\n",
    "    autoencoderModel.add(Dense(1024, activation='relu', name=\"d1024\"))\n",
    "\n",
    "    # do not use sigmoid all predictions will be zero. makes sence \n",
    "    #autoencoderModel.add(Dense(numFeatures,    activation='sigmoid', name=\"dOut\"))\n",
    "    autoencoderModel.add(Dense(numFeatures,    activation='relu', name=\"dOut\"))\n",
    "\n",
    "    # set up our optimizer\n",
    "    # https://machinelearningmastery.com/how-to-choose-loss-functions-when-training-deep-learning-neural-networks/\n",
    "    autoencoderModel.compile(loss='mean_squared_error', optimizer=Adam(),  metrics=metrics)\n",
    "    # autoencoderModel.compile(loss='mean_absolute_error', optimizer=Adam(),  metrics=metrics)\n",
    "    # autoencoderModel.compile(loss='mean_squared_logarithmic_error', optimizer=Adam(),  metrics=metrics)\n",
    "    # ? no RMSE? autoencoderModel.compile(loss='root_mean_squared_error', optimizer=Adam(),  metrics=metrics)\n",
    "    \n",
    "    return autoencoderModel\n"
   ]
  },
  {
   "cell_type": "code",
   "execution_count": 13,
   "metadata": {
    "scrolled": true
   },
   "outputs": [
    {
     "name": "stdout",
     "output_type": "stream",
     "text": [
      "numExamples:437 numFeatures:10499 encodingDim:64\n",
      "Train on 437 samples, validate on 49 samples\n",
      "Epoch 1/15\n",
      "437/437 [==============================] - 2s 4ms/sample - loss: 0.0514 - accuracy: 0.0000e+00 - mse: 0.0514 - val_loss: 0.0523 - val_accuracy: 0.0000e+00 - val_mse: 0.0523\n",
      "Epoch 2/15\n",
      "437/437 [==============================] - 0s 704us/sample - loss: 0.0527 - accuracy: 0.0000e+00 - mse: 0.0527 - val_loss: 0.0498 - val_accuracy: 0.0204 - val_mse: 0.0498\n",
      "Epoch 3/15\n",
      "437/437 [==============================] - 0s 668us/sample - loss: 0.0502 - accuracy: 0.0000e+00 - mse: 0.0502 - val_loss: 0.0491 - val_accuracy: 0.0408 - val_mse: 0.0491\n",
      "Epoch 4/15\n",
      "437/437 [==============================] - 0s 666us/sample - loss: 0.0496 - accuracy: 0.0183 - mse: 0.0496 - val_loss: 0.0478 - val_accuracy: 0.4694 - val_mse: 0.0478\n",
      "Epoch 5/15\n",
      "437/437 [==============================] - 0s 664us/sample - loss: 0.0483 - accuracy: 0.4439 - mse: 0.0483 - val_loss: 0.0477 - val_accuracy: 0.0204 - val_mse: 0.0477\n",
      "Epoch 6/15\n",
      "437/437 [==============================] - 0s 673us/sample - loss: 0.0482 - accuracy: 0.0137 - mse: 0.0482 - val_loss: 0.0475 - val_accuracy: 0.4898 - val_mse: 0.0475\n",
      "Epoch 7/15\n",
      "437/437 [==============================] - 0s 669us/sample - loss: 0.0480 - accuracy: 0.4554 - mse: 0.0480 - val_loss: 0.0475 - val_accuracy: 0.4898 - val_mse: 0.0475\n",
      "Epoch 8/15\n",
      "437/437 [==============================] - 0s 649us/sample - loss: 0.0480 - accuracy: 0.4554 - mse: 0.0480 - val_loss: 0.0474 - val_accuracy: 0.4898 - val_mse: 0.0474\n",
      "Epoch 9/15\n",
      "437/437 [==============================] - 0s 656us/sample - loss: 0.0479 - accuracy: 0.4554 - mse: 0.0479 - val_loss: 0.0473 - val_accuracy: 0.4898 - val_mse: 0.0473\n",
      "Epoch 10/15\n",
      "437/437 [==============================] - 0s 655us/sample - loss: 0.0478 - accuracy: 0.4554 - mse: 0.0478 - val_loss: 0.0473 - val_accuracy: 0.4898 - val_mse: 0.0473\n",
      "Epoch 11/15\n",
      "437/437 [==============================] - 0s 668us/sample - loss: 0.0477 - accuracy: 0.4554 - mse: 0.0477 - val_loss: 0.0473 - val_accuracy: 0.4898 - val_mse: 0.0473\n",
      "Epoch 12/15\n",
      "437/437 [==============================] - 0s 649us/sample - loss: 0.0477 - accuracy: 0.4554 - mse: 0.0477 - val_loss: 0.0472 - val_accuracy: 0.4898 - val_mse: 0.0472\n",
      "Epoch 13/15\n",
      "437/437 [==============================] - 0s 653us/sample - loss: 0.0477 - accuracy: 0.4508 - mse: 0.0477 - val_loss: 0.0471 - val_accuracy: 0.4898 - val_mse: 0.0471\n",
      "Epoch 14/15\n",
      "437/437 [==============================] - 0s 638us/sample - loss: 0.0476 - accuracy: 0.4554 - mse: 0.0476 - val_loss: 0.0471 - val_accuracy: 0.4898 - val_mse: 0.0471\n",
      "Epoch 15/15\n",
      "437/437 [==============================] - 0s 649us/sample - loss: 0.0476 - accuracy: 0.4554 - mse: 0.0476 - val_loss: 0.0471 - val_accuracy: 0.4898 - val_mse: 0.0471\n",
      "CPU times: user 46.4 s, sys: 24.8 s, total: 1min 11s\n",
      "Wall time: 5.93 s\n"
     ]
    }
   ],
   "source": [
    "meaningOfLife = 42\n",
    "np.random.seed(meaningOfLife)\n",
    "tf.random.set_seed(meaningOfLife)\n",
    "\n",
    "# trivalArch() produces crappy predictions\n",
    "#autoencoderModel = trivalArch(); encoderModel = None; decoderModel = None\n",
    "\n",
    "# buggyArchPart1 produces crappy predictions\n",
    "#autoencoderModel = buggyArchPart1(); encoderModel = None; decoderModel = None\n",
    "\n",
    "# buggyArchPart2\n",
    "# encoderModel does not produce predictions\n",
    "# suggest the buggyArchPart1 encoding layer might not be working\n",
    "# autoencoderModel, encoderModel, decoderModel = buggyArchPart2()\n",
    "\n",
    "autoencoderModel = multiLayerArch(metrics=['accuracy', 'mse']); encoderModel = None; decoderModel = None\n",
    "\n",
    "# TODO: AEDWIP: add shuffle. I do not think it will make much difference\n",
    "valData = (cclbgRNASeqTestXNp,  cclbgGeneDepTestYNp)\n",
    "%time history = autoencoderModel.fit(\\\n",
    "                                    cclbgRNASeqTrainXNp, \\\n",
    "                                    cclbgDepTrainYNp, \\\n",
    "                                    batch_size=1024, \\\n",
    "                                    epochs=15, \\\n",
    "                                    verbose=1, \\\n",
    "                                    validation_data=valData )"
   ]
  },
  {
   "cell_type": "code",
   "execution_count": null,
   "metadata": {},
   "outputs": [],
   "source": []
  },
  {
   "cell_type": "code",
   "execution_count": 14,
   "metadata": {},
   "outputs": [
    {
     "name": "stdout",
     "output_type": "stream",
     "text": [
      "dict_keys(['loss', 'accuracy', 'mse', 'val_loss', 'val_accuracy', 'val_mse'])\n"
     ]
    }
   ],
   "source": [
    "print(history.history.keys())"
   ]
  },
  {
   "cell_type": "code",
   "execution_count": 15,
   "metadata": {},
   "outputs": [
    {
     "data": {
      "image/png": "[encoded data removed]",
      "text/plain": [
       "<Figure size 432x288 with 1 Axes>"
      ]
     },
     "metadata": {
      "needs_background": "light"
     },
     "output_type": "display_data"
    }
   ],
   "source": [
    "plt.title('Mean Squared Error')\n",
    "plt.xlabel('epocs')\n",
    "plt.plot(history.history['mse'], label='train')\n",
    "plt.plot(history.history['val_mse'], label='test')\n",
    "plt.legend()\n",
    "plt.show()"
   ]
  },
  {
   "cell_type": "code",
   "execution_count": 16,
   "metadata": {},
   "outputs": [
    {
     "name": "stdout",
     "output_type": "stream",
     "text": [
      "e1024\n",
      "e512\n",
      "e256\n",
      "e128\n",
      "bottleneck\n",
      "d128\n",
      "d256\n",
      "d512\n",
      "d1024\n",
      "dOut\n"
     ]
    }
   ],
   "source": [
    "for layer in autoencoderModel.layers:\n",
    "    print(layer.name)"
   ]
  },
  {
   "cell_type": "code",
   "execution_count": 17,
   "metadata": {},
   "outputs": [],
   "source": [
    "if encoderModel:\n",
    "    for layer in encoderModel.layers:\n",
    "        print(layer.name)"
   ]
  },
  {
   "cell_type": "code",
   "execution_count": 18,
   "metadata": {},
   "outputs": [],
   "source": [
    "if decoderModel:\n",
    "    for layer in decoderModel.layers:\n",
    "        print(layer.name)"
   ]
  },
  {
   "cell_type": "code",
   "execution_count": 19,
   "metadata": {},
   "outputs": [
    {
     "name": "stdout",
     "output_type": "stream",
     "text": [
      "\n",
      "predictedTrain.shape:(437, 10499)\n",
      "predictedTrain[0:10, 0:10]\n",
      "[[-0.         -0.         -0.          0.16758056  0.06720156 -0.\n",
      "  -0.         -0.          0.03622453  0.09220303]\n",
      " [-0.         -0.         -0.          0.18149713  0.06572786 -0.\n",
      "  -0.         -0.          0.04046548  0.09789281]\n",
      " [-0.         -0.         -0.          0.17656091  0.06346402 -0.\n",
      "  -0.         -0.          0.03660684  0.09493518]\n",
      " [-0.         -0.         -0.          0.16534986  0.0617654  -0.\n",
      "  -0.         -0.          0.03552351  0.09053127]\n",
      " [-0.         -0.         -0.          0.16200168  0.06390137 -0.\n",
      "  -0.         -0.          0.03404035  0.08865543]\n",
      " [-0.         -0.         -0.          0.17396872  0.06381837 -0.\n",
      "  -0.         -0.          0.03846032  0.0937293 ]\n",
      " [-0.         -0.         -0.          0.16453135  0.06308136 -0.\n",
      "  -0.         -0.          0.03506794  0.08807198]\n",
      " [-0.         -0.         -0.          0.17337775  0.06797101 -0.\n",
      "  -0.         -0.          0.03651042  0.09797969]\n",
      " [-0.         -0.         -0.          0.18661454  0.06874897 -0.\n",
      "  -0.         -0.          0.03989346  0.09458432]\n",
      " [-0.         -0.         -0.          0.18432057  0.06543715 -0.\n",
      "  -0.         -0.          0.04154234  0.09954897]]\n",
      "\n",
      "cclbgDepTrainYNp.shape:(437, 10499)\n",
      "cclbgDepTrainYNp[0:3, 0:3]\n",
      "[[-0.1104474   0.02873079 -0.04848716]\n",
      " [-0.15634466  0.20082609 -0.1109807 ]\n",
      " [-0.15079345  0.08213084 -0.03073966]]\n"
     ]
    }
   ],
   "source": [
    "def debug(name, npArray, n=3):\n",
    "    print(\"{}.shape:{}\".format(name, npArray.shape))\n",
    "    print(\"{}[0:{}, 0:{}]\\n{}\".format(name, n, n, npArray[0:n, 0:n]))\n",
    "    \n",
    "predictedTrain = autoencoderModel.predict(cclbgRNASeqTrainXNp)\n",
    "print()\n",
    "debug(\"predictedTrain\", predictedTrain, 10)\n",
    "\n",
    "if encoderModel:\n",
    "    encodedData = encoderModel.predict(cclbgRNASeqTrainXNp)\n",
    "    print()\n",
    "    debug(\"encodedData\", encodedData, 10)\n",
    "\n",
    "if decoderModel:\n",
    "    decodedData = decoderModel.predict(encodedData)\n",
    "    print()\n",
    "    debug(\"decodedData\", decodedData, 10)\n",
    "\n",
    "\n",
    "# decodedData should equal cclbgDepTrainYNp\n",
    "print()\n",
    "debug(\"cclbgDepTrainYNp\", cclbgDepTrainYNp, 3)"
   ]
  },
  {
   "cell_type": "code",
   "execution_count": 27,
   "metadata": {},
   "outputs": [
    {
     "name": "stdout",
     "output_type": "stream",
     "text": [
      "cclbgDepTrainYNp[0:3]:\n",
      "[[-0.1104474   0.02873079 -0.04848716 ...  0.10376965 -0.03699218\n",
      "  -0.0097903 ]\n",
      " [-0.15634466  0.20082609 -0.1109807  ...  0.08425841 -0.19582009\n",
      "   0.0548986 ]\n",
      " [-0.15079345  0.08213084 -0.03073966 ...  0.01452408 -0.12964246\n",
      "   0.04303337]]\n",
      "\n",
      "predictedTrain[0:3]       :\n",
      "[[-0.         -0.         -0.         ...  0.14163406 -0.\n",
      "   0.05848427]\n",
      " [-0.         -0.         -0.         ...  0.15219475 -0.\n",
      "   0.06390738]\n",
      " [-0.         -0.         -0.         ...  0.14726032 -0.\n",
      "   0.06157347]]\n",
      "\n",
      "loss[0:3]            :\n",
      "[0.04651911 0.04262278 0.04498693]\n",
      "\n",
      "totalLoss: 20.807048797607422\n",
      "\n",
      "we have a nonlinear regression model, R2 stat may not be an appropriate stat to use\n",
      "training set R squared: -5.7502487180452135\n",
      "\n",
      "average_cclbgGeneDep:-0.06328828307250574\n"
     ]
    }
   ],
   "source": [
    "loss = tf.keras.losses.mean_squared_error(cclbgDepTrainYNp, predictedTrain)\n",
    "#loss = tf.keras.losses.mean_squared_error(cclbgRNASeqTrainXNp, predictedTrain)\n",
    "viewN = 3\n",
    "print(\"cclbgDepTrainYNp[0:{}]:\\n{}\".format(viewN, cclbgDepTrainYNp[0:viewN]))\n",
    "print(\"\\npredictedTrain[0:{}]       :\\n{}\".format(viewN, predictedTrain[0:viewN]))\n",
    "print(\"\\nloss[0:{}]            :\\n{}\".format(viewN, loss[0:viewN]))\n",
    "\n",
    "print(\"\\ntotalLoss: {}\".format(np.sum(loss)))\n",
    "\n",
    "r2 = r2_score(y_true=cclbgDepTrainYNp, y_pred=predictedTrain) #  -5.7502487180452135\n",
    "aedwip = r2_score(y_true=predictedTrain, y_pred=cclbgDepTrainYNp)\n",
    "print(\"\\nwe have a nonlinear regression model, R2 stat may not be an appropriate stat to use\\ntraining set R squared: {}\".format(r2))# -475456.6033642749\n",
    "\n",
    "print(\"\\naverage_cclbgGeneDep:{}\".format(average_cclbgGeneDep))"
   ]
  },
  {
   "cell_type": "markdown",
   "metadata": {},
   "source": [
    "# Arch tunning\n",
    "keep track of different results\n",
    "\n",
    "### exp1 multiLayerArch()\n",
    "```\n",
    "encodingDim = 100\n",
    "totalLoss:20.911518096923828\n",
    "\n",
    "e256\n",
    "e128\n",
    "bottleneck\n",
    "d128\n",
    "d256\n",
    "dOut\n",
    "```\n",
    "\n",
    "### exp2 multiLayerArch()\n",
    "```\n",
    "encodingDim = 50\n",
    "totalLoss:20.849037170410156\n",
    "```\n",
    "\n",
    "### exp3 multiLayerArch()\n",
    "```\n",
    "encodingDim = 20\n",
    "totalLoss:20.87580108642578\n",
    "```\n",
    "\n",
    "### exp 4 multiLayerArch()\n",
    "```\n",
    "encodingDim = 50\n",
    "totalLoss:20.741943359375\n",
    "\n",
    "e512\n",
    "e256\n",
    "e128\n",
    "bottleneck\n",
    "d128\n",
    "d256\n",
    "d512\n",
    "dOut\n",
    "```\n",
    "\n",
    "### exp 5 multiLayerArch()\n",
    "```\n",
    "encodingDim:64\n",
    "totalLoss:20.758359909057617\n",
    "e1024\n",
    "e512\n",
    "e256\n",
    "e128\n",
    "bottleneck\n",
    "d128\n",
    "d256\n",
    "d512\n",
    "d1024\n",
    "dOut\n",
    "```"
   ]
  },
  {
   "cell_type": "code",
   "execution_count": null,
   "metadata": {},
   "outputs": [],
   "source": []
  }
 ],
 "metadata": {
  "kernelspec": {
   "display_name": "Python 3",
   "language": "python",
   "name": "python3"
  },
  "language_info": {
   "codemirror_mode": {
    "name": "ipython",
    "version": 3
   },
   "file_extension": ".py",
   "mimetype": "text/x-python",
   "name": "python",
   "nbconvert_exporter": "python",
   "pygments_lexer": "ipython3",
   "version": "3.7.6"
  },
  "varInspector": {
   "cols": {
    "lenName": 16,
    "lenType": 16,
    "lenVar": 40
   },
   "kernels_config": {
    "python": {
     "delete_cmd_postfix": "",
     "delete_cmd_prefix": "del ",
     "library": "var_list.py",
     "varRefreshCmd": "print(var_dic_list())"
    },
    "r": {
     "delete_cmd_postfix": ") ",
     "delete_cmd_prefix": "rm(",
     "library": "var_list.r",
     "varRefreshCmd": "cat(var_dic_list()) "
    }
   },
   "types_to_exclude": [
    "module",
    "function",
    "builtin_function_or_method",
    "instance",
    "_Feature"
   ],
   "window_display": false
  }
 },
 "nbformat": 4,
 "nbformat_minor": 4
}
