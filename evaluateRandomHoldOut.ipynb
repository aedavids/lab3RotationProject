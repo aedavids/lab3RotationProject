{
 "cells": [
  {
   "cell_type": "markdown",
   "metadata": {},
   "source": [
    "# Evaluate Random Hold Out\n",
    "author: Andrew E. Davidson, aedavids@ucsc.edu\n",
    "\n",
    "Best results: learn 19 features"
   ]
  },
  {
   "cell_type": "code",
   "execution_count": 1,
   "metadata": {
    "scrolled": true
   },
   "outputs": [
    {
     "name": "stdout",
     "output_type": "stream",
     "text": [
      "[INFO <ipython-input-1-dae33e64cf83>:6 - <module>()] using logging configuration file:src/test/logging.test.ini.json\n"
     ]
    }
   ],
   "source": [
    "from datetime import datetime\n",
    "import logging\n",
    "from   setupLogging import setupLogging\n",
    "configFilePath = setupLogging( default_path='src/test/logging.test.ini.json')\n",
    "logger = logging.getLogger(\"notebook\")\n",
    "logger.info(\"using logging configuration file:{}\".format(configFilePath))\n",
    "\n",
    "import numpy as np\n",
    "from DEMETER2.lowRankMatrixFactorizationEasyOfUse \\\n",
    "    import LowRankMatrixFactorizationEasyOfUse as LrmfEoU"
   ]
  },
  {
   "cell_type": "code",
   "execution_count": 2,
   "metadata": {},
   "outputs": [],
   "source": [
    "dataDir = \"data/\"\n",
    "dataFileName = \"D2_Achilles_gene_dep_scores.tsv\"\n",
    "numFeatures = 19\n",
    "geneFilterPercent = 0.25 \n",
    "holdOutPercent = 0.40 \n",
    "# easyOfUse = LrmfEoU(dataDir, dataFileName, numFeatures, geneFilterPercent, holdOutPercent, tag=\"_randomized\")\n",
    "easyOfUse = LrmfEoU(dataDir, dataFileName, numFeatures, geneFilterPercent, holdOutPercent)"
   ]
  },
  {
   "cell_type": "code",
   "execution_count": 3,
   "metadata": {},
   "outputs": [],
   "source": [
    "resultsDict = easyOfUse.loadAll()\n",
    "\n",
    "# clean tidy version of demeter data\n",
    "Y, R, cellLines, geneNames, = resultsDict[\"DEMETER2\"]\n",
    "\n",
    "# trained model\n",
    "# scipy.optimize.OptimizeResult\n",
    "X, Theta, optimizeResult = resultsDict[\"LowRankMatrixFactorizationModel\"]\n",
    "\n",
    "# knockout logical filters. Use to select Y Train, Validations, and Test values\n",
    "RTrain, RValidation, RTest = resultsDict[\"filters\"]"
   ]
  },
  {
   "cell_type": "markdown",
   "metadata": {},
   "source": [
    "# Hyper Parameter tunning: Evaluate predicted error"
   ]
  },
  {
   "cell_type": "code",
   "execution_count": 4,
   "metadata": {},
   "outputs": [],
   "source": [
    "# predictions               = np.matmul( X, Theta.transpose() )\n",
    "# predictedValidationValues = np.multiply(predictions, RValidation)\n",
    "# trueTestVaildationValues  = np.multiply(Y, RValidation)"
   ]
  },
  {
   "cell_type": "code",
   "execution_count": 5,
   "metadata": {},
   "outputs": [
    {
     "name": "stdout",
     "output_type": "stream",
     "text": [
      "totalSqErrorValidation:18958.40614109373\n"
     ]
    }
   ],
   "source": [
    "def calculateTotalSquaredError(X, Theta, Y, R):\n",
    "    \"\"\"\n",
    "    arguments:\n",
    "        X:\n",
    "        Theta:\n",
    "        Y: the true observed values\n",
    "        R: knock out\n",
    "    \"\"\"\n",
    "    predictions = np.matmul( X, Theta.transpose() ) # matrix multiplication\n",
    "    error = predictions - Y\n",
    "    sqError = np.multiply( error, error ) # element wise multiply\n",
    "    selectObservedError = np.multiply( sqError, R )\n",
    "    totalError = np.sum( selectObservedError )\n",
    "    \n",
    "    return totalError\n",
    "\n",
    "# totalError = calculateTotalSquaredError(predictedValidationValues, trueTestVaildationValues)\n",
    "totalSqErrorValidation = calculateTotalSquaredError(X, Theta, Y, RValidation)\n",
    "print( \"totalSqErrorValidation:{}\".format(totalSqErrorValidation) )"
   ]
  },
  {
   "cell_type": "markdown",
   "metadata": {},
   "source": [
    "# Hyper Parameter tunning results\n",
    "\n",
    "D2_Achilles_gene_dep_scores.tsv, RValidation\n",
    "\n",
    "```\n",
    "  n_3_geneFilterPercent_0.25_holdOutPercent_0.4 totalError:20,724.50\n",
    " n_14_geneFilterPercent_0.25_holdOutPercent_0.4 totalError:19,090.72  \n",
    " n_19_geneFilterPercent_0.25_holdOutPercent_0.4 totalError:18,958.41 \n",
    " n_25_geneFilterPercent_0.25_holdOutPercent_0.4 totalError:18,987.49\n",
    " n_50_geneFilterPercent_0.25_holdOutPercent_0.4 totalError:19,909.83 \n",
    "n_100_geneFilterPercent_0.25_holdOutPercent_0.4 totalError:23,908.81\n",
    "```\n",
    "\n",
    "randomized base line\n",
    "```\n",
    "n_19_geneFilterPercent_0.25_holdOutPercent_0.4_randomized totalError:23,685.279323805073\n",
    "```"
   ]
  },
  {
   "cell_type": "markdown",
   "metadata": {},
   "source": [
    "# Test Results\n",
    "D2_Achilles_gene_dep_scores.tsv, RTest\n",
    "\n",
    "```\n",
    "n_19_geneFilterPercent_0.25_holdOutPercent_0.4 totalError:18979.49\n",
    "```"
   ]
  },
  {
   "cell_type": "code",
   "execution_count": 6,
   "metadata": {},
   "outputs": [
    {
     "name": "stdout",
     "output_type": "stream",
     "text": [
      "totalSqErrorTest:18979.491283967178\n"
     ]
    }
   ],
   "source": [
    "totalSqErrorTest = calculateTotalSquaredError(X, Theta, Y, RTest)\n",
    "print( \"totalSqErrorTest:{}\".format(totalSqErrorTest) )"
   ]
  },
  {
   "cell_type": "code",
   "execution_count": 7,
   "metadata": {},
   "outputs": [
    {
     "name": "stdout",
     "output_type": "stream",
     "text": [
      "1121380\n",
      "1121355\n",
      "3364958\n",
      "2242735\n"
     ]
    }
   ],
   "source": [
    "print( np.sum(RValidation))\n",
    "print( np.sum(RTest))\n",
    "print( np.sum(RValidation == RTest) )\n",
    "print( np.sum(RValidation != RTest) )"
   ]
  },
  {
   "cell_type": "code",
   "execution_count": 8,
   "metadata": {},
   "outputs": [
    {
     "name": "stdout",
     "output_type": "stream",
     "text": [
      "[[ True  True]\n",
      " [ True False]]\n",
      "[[False False]\n",
      " [False False]]\n",
      "[[False False]\n",
      " [False  True]]\n"
     ]
    }
   ],
   "source": [
    "print(RTrain[0:2,0:2])\n",
    "print(RValidation[0:2,0:2])\n",
    "print(RTest[0:2,0:2])"
   ]
  }
 ],
 "metadata": {
  "kernelspec": {
   "display_name": "Python 3",
   "language": "python",
   "name": "python3"
  },
  "language_info": {
   "codemirror_mode": {
    "name": "ipython",
    "version": 3
   },
   "file_extension": ".py",
   "mimetype": "text/x-python",
   "name": "python",
   "nbconvert_exporter": "python",
   "pygments_lexer": "ipython3",
   "version": "3.7.6"
  }
 },
 "nbformat": 4,
 "nbformat_minor": 4
}
