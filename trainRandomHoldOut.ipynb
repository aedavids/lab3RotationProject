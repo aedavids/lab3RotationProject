{
 "cells": [
  {
   "cell_type": "markdown",
   "metadata": {},
   "source": [
    "# Train a Low Rank Matrix Factorization Model\n",
    "author: Andrew E. Davidson, aedavids@ucsc.edu\n",
    "\n",
    "Use this notebook to train models using different hyper parameters. \n",
    "\n",
    "Hyper Parameter options:\n",
    "- numFeatures: the number of features to learn\n",
    "- filterPercent: removes genes that are missing more than filterPercent of values\n",
    "    + low rank matrix factorization works well with sparse data. It only trains on observed values. How ever it is a good idea to remove genes that are missing a high percentage of values if for no other reason than the model will train much faster\n",
    "- holdOutPercent\n",
    "    + enables you to control how much data you wish to train on \n",
    "    + split() is called  a second time to break the holdout set into a validation and test set of equal size\n",
    "    \n",
    "## output:\n",
    "Trained results, along with clean versions of our gene essentiality data are written to the same directory as the raw data file\n",
    "\n",
    "- *X*.csv: our low dimension matrix with shape numGenes x numLearned Features\n",
    "- *Theta*.csv: our low dimension matrix with shape cellLines x numLearned Features\n",
    "- *Y*.csv: a clean, filtered, tidy version of the gene essentiality data\n",
    "- *R*.csv: a knockout matrix with values = 1 for observed values else 0\n",
    "- *RTRain*, *Rvalidation*, *RTest*,knockout matrix you can use to select data sets from Y\n",
    "\n",
    "sample files\n",
    "```\n",
    "$ ls -1 data/n_19_geneFilterPercent_0.25_holdOutPercent_0.4/\n",
    "D2_Achilles_gene_dep_scores_RTEST_n_19_geneFilterPercent_0.25_holdOutPercent_0.4.csv\n",
    "D2_Achilles_gene_dep_scores_RTRAIN_n_19_geneFilterPercent_0.25_holdOutPercent_0.4.csv\n",
    "D2_Achilles_gene_dep_scores_RTRUTH_n_19_geneFilterPercent_0.25_holdOutPercent_0.4.csv\n",
    "D2_Achilles_gene_dep_scores_RVALIDATE_n_19_geneFilterPercent_0.25_holdOutPercent_0.4.csv\n",
    "D2_Achilles_gene_dep_scores_Theta_n_19_geneFilterPercent_0.25_holdOutPercent_0.4.csv\n",
    "D2_Achilles_gene_dep_scores_X_n_19_geneFilterPercent_0.25_holdOutPercent_0.4.csv\n",
    "D2_Achilles_gene_dep_scores_Y_n_19_geneFilterPercent_0.25_holdOutPercent_0.4.csv\n",
    "D2_Achilles_gene_dep_scores_cellLineNames_n_19_geneFilterPercent_0.25_holdOutPercent_0.4.csv\n",
    "D2_Achilles_gene_dep_scores_geneNames_n_19_geneFilterPercent_0.25_holdOutPercent_0.4.csv\n",
    "```\n",
    "\n",
    "This notebook does not evaluate model performace."
   ]
  },
  {
   "cell_type": "code",
   "execution_count": 1,
   "metadata": {},
   "outputs": [
    {
     "name": "stdout",
     "output_type": "stream",
     "text": [
      "[INFO <ipython-input-1-dae33e64cf83>:6 - <module>()] using logging configuration file:src/test/logging.test.ini.json\n"
     ]
    }
   ],
   "source": [
    "from datetime import datetime\n",
    "import logging\n",
    "from   setupLogging import setupLogging\n",
    "configFilePath = setupLogging( default_path='src/test/logging.test.ini.json')\n",
    "logger = logging.getLogger(\"notebook\")\n",
    "logger.info(\"using logging configuration file:{}\".format(configFilePath))\n",
    "\n",
    "import numpy as np\n",
    "from DEMETER2.lowRankMatrixFactorizationEasyOfUse \\\n",
    "    import LowRankMatrixFactorizationEasyOfUse as LrmfEoU"
   ]
  },
  {
   "cell_type": "markdown",
   "metadata": {},
   "source": [
    "## filterPercent Hyper Parameter Tunning. \n",
    "Based on explore.ipynb setting filtePercent = 0.01 will remove 5604 genes. This suggests model only works or able to impute missing values in dense matrix. Setting filterPercentTunning = 0.25 removes 5562 genes and suggest that model works with sparce matrix. Becareful about the \"optics\" of setting the hyper parmeter. In reality I do not think it makes a difference"
   ]
  },
  {
   "cell_type": "code",
   "execution_count": 2,
   "metadata": {},
   "outputs": [],
   "source": [
    "np.random.seed(42)"
   ]
  },
  {
   "cell_type": "code",
   "execution_count": 3,
   "metadata": {},
   "outputs": [],
   "source": [
    "dataDir = \"data/\"\n",
    "dataFileName = \"D2_Achilles_gene_dep_scores.tsv\"\n",
    "numFeatures = 19\n",
    "geneFilterPercent = 0.25 \n",
    "holdOutPercent = 0.40 \n",
    "\n",
    "#randomize=True\n",
    "#easyOfUse = LrmfEoU(dataDir, dataFileName, numFeatures, geneFilterPercent, holdOutPercent, randomize, tag=\"_randomized\")\n",
    "easyOfUse = LrmfEoU(dataDir, dataFileName, numFeatures, geneFilterPercent, holdOutPercent)"
   ]
  },
  {
   "cell_type": "code",
   "execution_count": 4,
   "metadata": {},
   "outputs": [
    {
     "name": "stdout",
     "output_type": "stream",
     "text": [
      "[INFO lowRankMatrixFactorizationEasyOfUse.py:96 - runTrainingPipeLine()] begin load and clean\n",
      "[INFO lowRankMatrixFactorizationEasyOfUse.py:98 - runTrainingPipeLine()] load and clean completed\n",
      "[INFO lowRankMatrixFactorizationEasyOfUse.py:103 - runTrainingPipeLine()] begin data set split\n",
      "[INFO lowRankMatrixFactorizationEasyOfUse.py:107 - runTrainingPipeLine()] end data set split\n",
      "[INFO lowRankMatrixFactorizationEasyOfUse.py:109 - runTrainingPipeLine()] begin model fit\n",
      "Warning: Desired error not necessarily achieved due to precision loss.\n",
      "         Current function value: 25905.072274\n",
      "         Iterations: 186\n",
      "         Function evaluations: 399\n",
      "         Gradient evaluations: 387\n",
      "[INFO lowRankMatrixFactorizationEasyOfUse.py:111 - runTrainingPipeLine()] end model.fit\n",
      "CPU times: user 22min 45s, sys: 16.3 s, total: 23min 1s\n",
      "Wall time: 5min 35s\n",
      "tell application \\\"Messages\\\" to send \\\"data is up: numFeatures:19 holdOut:0.4 run time: 0:05:35.844662\\\" to buddy \\\"Andy Davidson\\\"\n"
     ]
    }
   ],
   "source": [
    "start = datetime.now()\n",
    "dateTimeFmt = \"%H:%M:%S\"\n",
    "startTime = start.strftime(dateTimeFmt)\n",
    "\n",
    "%time resultsDict = easyOfUse.runTrainingPipeLine()\n",
    "\n",
    "end = datetime.now()\n",
    "endTime = end.strftime(dateTimeFmt)\n",
    "\n",
    "duration = end - start\n",
    "durationTime = str(duration)\n",
    "\n",
    "fmt = \"data is up: numFeatures:{} holdOut:{} run time: {}\"\n",
    "msg = fmt.format(numFeatures, holdOutPercent, durationTime)\n",
    "cmdFmt = 'tell application \\\\\"Messages\\\\\" to send \\\\\"{}\\\\\" to buddy \\\\\"Andy Davidson\\\\\"'\n",
    "cmd = cmdFmt.format(msg)\n",
    "print(cmd)\n",
    "\n",
    "# apple iMessage\n",
    "#! osascript -e 'tell application \"Messages\" to send \"data is up \" to buddy \"Andy Davidson\"'\n",
    "! osascript -e \"$cmd\""
   ]
  },
  {
   "cell_type": "code",
   "execution_count": 5,
   "metadata": {},
   "outputs": [
    {
     "name": "stdout",
     "output_type": "stream",
     "text": [
      "model and tidy data sets have been stored to data/n_19_geneFilterPercent_0.25_holdOutPercent_0.4\n"
     ]
    }
   ],
   "source": [
    "storageLocation = easyOfUse.saveAll(resultsDict)\n",
    "print(\"model and tidy data sets have been stored to {}\".format(storageLocation))"
   ]
  },
  {
   "cell_type": "code",
   "execution_count": 6,
   "metadata": {},
   "outputs": [],
   "source": [
    "# clean tidy version of demeter data\n",
    "Y, R, cellLines, geneNames, = resultsDict[\"DEMETER2\"]\n",
    "\n",
    "# trained model\n",
    "# scipy.optimize.OptimizeResult\n",
    "X, Theta, optimizeResult = resultsDict[\"LowRankMatrixFactorizationModel\"]\n",
    "\n",
    "# knockout logical filters. Use to select Y Train, Validations, and Test values\n",
    "RTrain, RValidation, RTest = resultsDict[\"filters\"]"
   ]
  },
  {
   "cell_type": "code",
   "execution_count": 7,
   "metadata": {},
   "outputs": [
    {
     "name": "stdout",
     "output_type": "stream",
     "text": [
      "success:False\n",
      "status:2 message:Desired error not necessarily achieved due to precision loss.\n",
      "final cost: 25905.072273820377\n",
      "number of iterations: 186\n",
      " Number of evaluations of the objective functions : 399\n",
      " Number of evaluations of the objective functions and of its gradient : 387\n"
     ]
    }
   ],
   "source": [
    "easyOfUse.dipslayOptimizedResults(optimizeResult)"
   ]
  },
  {
   "cell_type": "markdown",
   "metadata": {},
   "source": [
    "# results\n",
    "## numFeatures_100_n_100_geneFilterPercent_0.25_holdOutPercent_0.4\n",
    "```\n",
    "start Time:09:35:51\n",
    "Warning: Desired error not necessarily achieved due to precision loss.\n",
    "         Current function value: 16876.330748\n",
    "         Iterations: 316\n",
    "         Function evaluations: 675\n",
    "         Gradient evaluations: 663\n",
    "CPU times: user 2h 50min 21s, sys: 7min 50s, total: 2h 58min 12s\n",
    "Wall time: 22min 20s\n",
    "success:False\n",
    "status:2 message:Desired error not necessarily achieved due to precision loss.\n",
    "final cost: 16876.330748218537\n",
    "number of iterations: 316\n",
    " Number of evaluations of the objective functions : 675\n",
    " Number of evaluations of the objective functions and of its gradient : 663\n",
    "end Time:09:58:11\n",
    "duration:0:22:20.553166\n",
    "```\n",
    "\n",
    "## numFeatures_50_n_50_geneFilterPercent_0.25_holdOutPercent_0.4\n",
    "\n",
    "```\n",
    "start Time:07:11:42\n",
    "Warning: Desired error not necessarily achieved due to precision loss.\n",
    "         Current function value: 21294.349868\n",
    "         Iterations: 202\n",
    "         Function evaluations: 443\n",
    "         Gradient evaluations: 432\n",
    "CPU times: user 56min 3s, sys: 1min 23s, total: 57min 27s\n",
    "Wall time: 7min 11s\n",
    "success:False\n",
    "status:2 message:Desired error not necessarily achieved due to precision loss.\n",
    "final cost: 21294.34986791021\n",
    "number of iterations: 202\n",
    " Number of evaluations of the objective functions : 443\n",
    " Number of evaluations of the objective functions and of its gradient : 432\n",
    "end Time:07:18:53\n",
    "duration:0:07:11.213200\n",
    "```\n",
    "\n",
    "## numFeatures_25_n_25_geneFilterPercent_0.25_holdOutPercent_0.4\n",
    "```\n",
    "start Time:08:38:39\n",
    "Warning: Desired error not necessarily achieved due to precision loss.\n",
    "         Current function value: 24845.809920\n",
    "         Iterations: 164\n",
    "         Function evaluations: 424\n",
    "         Gradient evaluations: 414\n",
    "CPU times: user 22min 33s, sys: 11 s, total: 22min 44s\n",
    "Wall time: 4min 8s\n",
    "success:False\n",
    "status:2 message:Desired error not necessarily achieved due to precision loss.\n",
    "final cost: 24845.809919987216\n",
    "number of iterations: 164\n",
    " Number of evaluations of the objective functions : 424\n",
    " Number of evaluations of the objective functions and of its gradient : 414\n",
    "end Time:08:42:48\n",
    "duration:0:04:08.631190\n",
    "```\n",
    "\n",
    "## numFeatures_19_n_19_geneFilterPercent_0.25_holdOutPercent_0.4\n",
    "```\n",
    "start Time:11:26:43\n",
    "Warning: Desired error not necessarily achieved due to precision loss.\n",
    "         Current function value: 25905.072274\n",
    "         Iterations: 186\n",
    "         Function evaluations: 399\n",
    "         Gradient evaluations: 387\n",
    "CPU times: user 21min 30s, sys: 21.7 s, total: 21min 52s\n",
    "Wall time: 3min 54s\n",
    "success:False\n",
    "status:2 message:Desired error not necessarily achieved due to precision loss.\n",
    "final cost: 25905.072273820377\n",
    "number of iterations: 186\n",
    " Number of evaluations of the objective functions : 399\n",
    " Number of evaluations of the objective functions and of its gradient : 387\n",
    "end Time:11:30:37\n",
    "duration:0:03:54.615135\n",
    "```\n",
    "\n",
    "## n_19_geneFilterPercent_0.25_holdOutPercent_0.4_randomized\n",
    "```\n",
    "Warning: Desired error not necessarily achieved due to precision loss.\n",
    "         Current function value: 31563.366168\n",
    "         Iterations: 143\n",
    "         Function evaluations: 343\n",
    "         Gradient evaluations: 332\n",
    "[INFO lowRankMatrixFactorizationEasyOfUse.py:108 - runTrainingPipeLine()] end model.fit\n",
    "CPU times: user 19min 58s, sys: 18.1 s, total: 20min 16s\n",
    "Wall time: 4min 58s\n",
    "```\n",
    "\n",
    "## numFeatures_14_n_14_geneFilterPercent_0.25_holdOutPercent_0.4\n",
    "```\n",
    "start Time:11:16:54\n",
    "Warning: Desired error not necessarily achieved due to precision loss.\n",
    "         Current function value: 27115.341436\n",
    "         Iterations: 150\n",
    "         Function evaluations: 342\n",
    "         Gradient evaluations: 330\n",
    "CPU times: user 16min 30s, sys: 8.69 s, total: 16min 39s\n",
    "Wall time: 3min\n",
    "success:False\n",
    "status:2 message:Desired error not necessarily achieved due to precision loss.\n",
    "final cost: 27115.34143592632\n",
    "number of iterations: 150\n",
    " Number of evaluations of the objective functions : 342\n",
    " Number of evaluations of the objective functions and of its gradient : 330\n",
    "end Time:11:19:55\n",
    "duration:0:03:00.456812\n",
    "```\n",
    "\n",
    "## numFeatures = 3 holdOutPrecent = 0.1 filterPercent = 0.25\n",
    "```\n",
    "start Time:19:35:15\n",
    "Warning: Desired error not necessarily achieved due to precision loss.\n",
    "         Current function value: 31109.828038\n",
    "         Iterations: 127\n",
    "         Function evaluations: 295\n",
    "         Gradient evaluations: 283\n",
    "CPU times: user 13min 38s, sys: 5.05 s, total: 13min 43s\n",
    "Wall time: 2min 29s\n",
    "success:False\n",
    "status:2 message:Desired error not necessarily achieved due to precision loss.\n",
    "final cost: 31109.82803776644\n",
    "number of iterations: 127\n",
    " Number of evaluations of the objective functions : 295\n",
    " Number of evaluations of the objective functions and of its gradient : 283\n",
    "end Time:19:37:45\n",
    "duration:0:02:29.423916\n",
    "```"
   ]
  }
 ],
 "metadata": {
  "kernelspec": {
   "display_name": "Python 3",
   "language": "python",
   "name": "python3"
  },
  "language_info": {
   "codemirror_mode": {
    "name": "ipython",
    "version": 3
   },
   "file_extension": ".py",
   "mimetype": "text/x-python",
   "name": "python",
   "nbconvert_exporter": "python",
   "pygments_lexer": "ipython3",
   "version": "3.7.6"
  },
  "varInspector": {
   "cols": {
    "lenName": 16,
    "lenType": 16,
    "lenVar": 40
   },
   "kernels_config": {
    "python": {
     "delete_cmd_postfix": "",
     "delete_cmd_prefix": "del ",
     "library": "var_list.py",
     "varRefreshCmd": "print(var_dic_list())"
    },
    "r": {
     "delete_cmd_postfix": ") ",
     "delete_cmd_prefix": "rm(",
     "library": "var_list.r",
     "varRefreshCmd": "cat(var_dic_list()) "
    }
   },
   "types_to_exclude": [
    "module",
    "function",
    "builtin_function_or_method",
    "instance",
    "_Feature"
   ],
   "window_display": false
  }
 },
 "nbformat": 4,
 "nbformat_minor": 4
}
