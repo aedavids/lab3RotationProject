{
 "cells": [
  {
   "cell_type": "code",
   "execution_count": 1,
   "metadata": {},
   "outputs": [],
   "source": [
    "import numpy as np"
   ]
  },
  {
   "cell_type": "code",
   "execution_count": 2,
   "metadata": {},
   "outputs": [],
   "source": [
    "dataFile=\"data/D2_Achilles_gene_dep_scores.tsv\"\n",
    "dataRawStrs = np.loadtxt(dataFile, dtype='str', delimiter=\"\\t\")"
   ]
  },
  {
   "cell_type": "code",
   "execution_count": 3,
   "metadata": {},
   "outputs": [
    {
     "name": "stdout",
     "output_type": "stream",
     "text": [
      "(16756, 502)\n"
     ]
    }
   ],
   "source": [
    "print(dataRawStrs.shape)"
   ]
  },
  {
   "cell_type": "code",
   "execution_count": 4,
   "metadata": {},
   "outputs": [
    {
     "name": "stdout",
     "output_type": "stream",
     "text": [
      "[['\"\"' '\"143B_BONE\"' '\"22RV1_PROSTATE\"' '\"2313287_STOMACH\"'\n",
      "  '\"697_HAEMATOPOIETIC_AND_LYMPHOID_TISSUE\"']\n",
      " ['\"A1BG (1)\"' '0.0524661469433624' '-0.115242032403861'\n",
      "  '-0.0231724479806354' '-0.0233374641152424']\n",
      " ['\"NAT2 (10)\"' '0.0841725922071565' '0.000951246047267534'\n",
      "  '-0.154187814972645' '-0.0790055310659458']\n",
      " ['\"ADA (100)\"' '0.207020442006996' '0.0107433672738621'\n",
      "  '-0.072102214637485' '0.0456106275659727']\n",
      " ['\"CDH2 (1000)\"' '0.062191666745009' '-0.049808605031876'\n",
      "  '0.0221367779349252' '0.0617088692131269']]\n"
     ]
    }
   ],
   "source": [
    "unitTestData = dataRawStrs[0:5, 0:5]\n",
    "print(unitTestData)"
   ]
  },
  {
   "cell_type": "code",
   "execution_count": 5,
   "metadata": {},
   "outputs": [],
   "source": [
    "fileName = \"D2_Achilles_gene_dep_scores_5by5.tsv\"\n",
    "np.savetxt(fileName, unitTestData, fmt='%s', delimiter='\\t')"
   ]
  },
  {
   "cell_type": "code",
   "execution_count": 9,
   "metadata": {},
   "outputs": [
    {
     "name": "stdout",
     "output_type": "stream",
     "text": [
      "[[1. 1. 1.]\n",
      " [1. 0. 1.]\n",
      " [1. 1. 1.]]\n",
      "[[1 1 1]\n",
      " [1 0 1]\n",
      " [1 1 1]]\n",
      "[[ True  True  True]\n",
      " [ True False  True]\n",
      " [ True  True  True]]\n"
     ]
    }
   ],
   "source": [
    "foo = np.array([[1., 1., 1.],\n",
    "                [1., 0., 1.],\n",
    "                [1., 1., 1.]\n",
    "                ])\n",
    "\n",
    "print(foo)\n",
    "print(foo.astype(int))\n",
    "\n",
    "print(foo.astype(bool))"
   ]
  }
 ],
 "metadata": {
  "kernelspec": {
   "display_name": "Python 3",
   "language": "python",
   "name": "python3"
  },
  "language_info": {
   "codemirror_mode": {
    "name": "ipython",
    "version": 3
   },
   "file_extension": ".py",
   "mimetype": "text/x-python",
   "name": "python",
   "nbconvert_exporter": "python",
   "pygments_lexer": "ipython3",
   "version": "3.8.1"
  }
 },
 "nbformat": 4,
 "nbformat_minor": 4
}
