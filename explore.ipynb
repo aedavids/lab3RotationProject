{
 "cells": [
  {
   "cell_type": "markdown",
   "metadata": {},
   "source": [
    "# Explore D2_Achilles_gene_dep_scores.tsv \n",
    "\n",
    "## Abstract\n",
    "- 14.3% of values are missing \n",
    "- given we have 16756 genes and roughly 502 cell lines we should consider dropping genes with lots of missing values. Given the small number of cell lines dropping data is probably a bad idea, if anything we should consider imputing missing values\n",
    "- the filtering code in this notebook has been refactor into DEMETER2.dataFactory._clean()\n",
    "\n",
    "\n",
    "## Estimating the number of genes to remove:\n",
    "Table bellow shows how many genes would be dropped if we removed all genes missing greater than 'percent' missing values. The following table is copied from bellow. See histograms bellow. It seems 5604 of our 16756 are very sparse. The remain genes are very dense. We should consider imputing the missing values for dense genes. \n",
    "\n",
    "\n",
    "```\n",
    "percent:0.5  numToDrop   34\n",
    "percent:0.4  numToDrop 5555\n",
    "percent:0.25 numToDrop 5562\n",
    "percent:0.1  numToDrop 5562\n",
    "percent:0.05 numToDrop 5562\n",
    "percent:0.01 numToDrop 5604\n",
    "```"
   ]
  },
  {
   "cell_type": "code",
   "execution_count": 1,
   "metadata": {},
   "outputs": [],
   "source": [
    "import matplotlib.pyplot as plt\n",
    "import numpy as np\n",
    "from scipy.stats import describe"
   ]
  },
  {
   "cell_type": "code",
   "execution_count": 2,
   "metadata": {},
   "outputs": [],
   "source": [
    "dataFile=\"data/D2_Achilles_gene_dep_scores.tsv\"\n",
    "dataRawStrs = np.loadtxt(dataFile, dtype=str, delimiter=\"\\t\")"
   ]
  },
  {
   "cell_type": "markdown",
   "metadata": {},
   "source": [
    "## Parse data\n",
    "strip off the headers and row names"
   ]
  },
  {
   "cell_type": "code",
   "execution_count": 3,
   "metadata": {},
   "outputs": [
    {
     "name": "stdout",
     "output_type": "stream",
     "text": [
      "(16756, 502)\n",
      "\n",
      "['\"\"' '\"143B_BONE\"' '\"22RV1_PROSTATE\"' '\"2313287_STOMACH\"'\n",
      " '\"697_HAEMATOPOIETIC_AND_LYMPHOID_TISSUE\"']\n",
      "['\"143B_BONE\"' '\"22RV1_PROSTATE\"' '\"2313287_STOMACH\"'\n",
      " '\"697_HAEMATOPOIETIC_AND_LYMPHOID_TISSUE\"']\n"
     ]
    }
   ],
   "source": [
    "print(dataRawStrs.shape)\n",
    "print()\n",
    "print(dataRawStrs[0,0:5])\n",
    "print(dataRawStrs[0,1:5])"
   ]
  },
  {
   "cell_type": "code",
   "execution_count": 4,
   "metadata": {},
   "outputs": [
    {
     "name": "stdout",
     "output_type": "stream",
     "text": [
      "(501,)\n",
      "['\"143B_BONE\"' '\"22RV1_PROSTATE\"' '\"2313287_STOMACH\"']\n"
     ]
    }
   ],
   "source": [
    "cellLines = dataRawStrs[0,1:]\n",
    "print(cellLines.shape)\n",
    "print(cellLines[0:3])"
   ]
  },
  {
   "cell_type": "code",
   "execution_count": 5,
   "metadata": {},
   "outputs": [
    {
     "name": "stdout",
     "output_type": "stream",
     "text": [
      "['\"\"' '\"A1BG (1)\"' '\"NAT2 (10)\"' '\"ADA (100)\"' '\"CDH2 (1000)\"']\n",
      "['\"A1BG (1)\"' '\"NAT2 (10)\"' '\"ADA (100)\"' '\"CDH2 (1000)\"']\n"
     ]
    }
   ],
   "source": [
    "print(dataRawStrs[0:5,0])\n",
    "print(dataRawStrs[1:5, 0])"
   ]
  },
  {
   "cell_type": "code",
   "execution_count": 6,
   "metadata": {},
   "outputs": [
    {
     "name": "stdout",
     "output_type": "stream",
     "text": [
      "(16755,)\n",
      "['\"A1BG (1)\"' '\"NAT2 (10)\"' '\"ADA (100)\"']\n"
     ]
    }
   ],
   "source": [
    "genNames = dataRawStrs[1:,0]\n",
    "print(genNames.shape)\n",
    "print(genNames[0:3])"
   ]
  },
  {
   "cell_type": "code",
   "execution_count": 7,
   "metadata": {},
   "outputs": [
    {
     "name": "stdout",
     "output_type": "stream",
     "text": [
      "(16755, 501)\n",
      "[['0.0524661469433624' '-0.115242032403861']\n",
      " ['0.0841725922071565' '0.000951246047267534']]\n"
     ]
    }
   ],
   "source": [
    "dataStr = dataRawStrs[1:, 1:]\n",
    "print(dataStr.shape)\n",
    "print(dataStr[0:2, 0:2])"
   ]
  },
  {
   "cell_type": "markdown",
   "metadata": {},
   "source": [
    "## Explore missing values"
   ]
  },
  {
   "cell_type": "code",
   "execution_count": 8,
   "metadata": {},
   "outputs": [
    {
     "name": "stdout",
     "output_type": "stream",
     "text": [
      "(16755, 501)\n",
      "[[False False False]\n",
      " [False False False]\n",
      " [False False False]]\n",
      "precent missing: 0.14348396611730285%\n"
     ]
    }
   ],
   "source": [
    "missing = dataStr == 'NA' \n",
    "print(missing.shape)\n",
    "print(missing[0:3, 0:3])\n",
    "originalPercentMissing = np.sum(missing, axis=None)/ np.size(missing)\n",
    "print( \"precent missing: {}%\".format(originalPercentMissing) )"
   ]
  },
  {
   "cell_type": "code",
   "execution_count": 9,
   "metadata": {},
   "outputs": [
    {
     "name": "stdout",
     "output_type": "stream",
     "text": [
      "(16755, 501)\n",
      "[[ True  True  True]\n",
      " [ True  True  True]\n",
      " [ True  True  True]]\n"
     ]
    }
   ],
   "source": [
    "present = missing == False\n",
    "print(present.shape)\n",
    "print(present[0:3, 0:3])"
   ]
  },
  {
   "cell_type": "code",
   "execution_count": 10,
   "metadata": {},
   "outputs": [],
   "source": [
    "# def findTopN(a, topN):\n",
    "#     '''\n",
    "#     https://stackoverflow.com/a/23734295\n",
    "    \n",
    "#     a is an 1d array\n",
    "    \n",
    "#     TODO make this work for matrix\n",
    "#     '''\n",
    "#     ret = np.argpartition(a, -topN)[-topN:]\n",
    "#     return ret\n",
    "    \n",
    "# not convinced this works, \n",
    "# our array is small, just use argsort(). It is easier to undertsand\n",
    "\n",
    "# c = np.array( [5, 3, 6, 7, 1, 2, 8, 9, 4] )\n",
    "# top4Idx = findTopN(c, 4)\n",
    "# print(top4Idx)\n",
    "# print( c[top4Idx] )"
   ]
  },
  {
   "cell_type": "code",
   "execution_count": 11,
   "metadata": {},
   "outputs": [],
   "source": [
    "def exploreLogicalImpl(R, axis, title=\"aedwip2\"):\n",
    "    print()\n",
    "    print(title)\n",
    "    RSums = np.sum(R, axis=axis)\n",
    "    print(RSums.shape)\n",
    "    \n",
    "    print()\n",
    "    sortIdx = np.argsort(RSums)[-200:]\n",
    "    print(\"sortIdx:\\n{}\".format(sortIdx))    \n",
    "    print(\"top values:\\n{}\".format(RSums[sortIdx]))    \n",
    "    \n",
    "    # s = RSums.shape\n",
    "    # RSums = RSums.reshape( (s[0], -1) )\n",
    "    RSumDescr = describe(RSums)\n",
    "    print()\n",
    "    print(RSumDescr)\n",
    "    RSumNobs, RSumminMax, RSummean, RSumvariance, RSumskewness, RSumkurtosis = RSumDescr\n",
    "    \n",
    "    print()\n",
    "    RSumsMin = RSumminMax[0]\n",
    "    RSumsMax = RSumminMax[1]\n",
    "    print(\"min:{} max:{}\".format(RSumsMin, RSumsMax))\n",
    "    print( \"RSumsMax - RSumsMin = {}\".format(RSumsMax - RSumsMin))\n",
    "    \n",
    "\n",
    "    numBins = (RSumsMax - RSumsMin) // 5\n",
    "    hTitle = \"{} numBins:{}\".format(title, numBins)\n",
    "    n, bins, patches = plt.hist(RSums, bins=numBins)\n",
    "    plt.title(hTitle)\n",
    "    plt.show()"
   ]
  },
  {
   "cell_type": "code",
   "execution_count": 12,
   "metadata": {},
   "outputs": [],
   "source": [
    "def exploreLogical(R, title=\"aedwip\"):\n",
    "    print(R.shape)\n",
    "    print(R[0:3, 0:3])\n",
    "    cols = 0\n",
    "    exploreLogicalImpl(R, axis=cols, title=\"{} cols\".format(title))\n",
    "    \n",
    "    rows = 1\n",
    "    exploreLogicalImpl(R, axis=rows, title=\"{} rows\".format(title))"
   ]
  },
  {
   "cell_type": "markdown",
   "metadata": {},
   "source": [
    "## aedwip\n",
    "\n",
    "looks like many cols have the same number of missing value. suggest may there are genes we should remove?\n",
    "\n",
    "```\n",
    "missing cols\n",
    "(501,)\n",
    "adwip\n",
    "aedwip topIdx:\n",
    "[  7   6 498  33 373 374 375  68   1  32 443 381  63  62 384 385   3 442\n",
    " 441   5 388 481  54  52 429  21 417 432  23 419 462 453 460 452 458  41\n",
    " 421 422 423 424 371 425 426 457  20  45 467 403 404 405 480 478 406  14\n",
    "  15 407  51  50 449 411  39 451  18 470  19  47  53 370 179 368 157 156\n",
    " 230 154 233 234 236 238 239 240 242 244 226 151 248 254 143 142 140 139\n",
    " 138 262 369 132 270 130 247 225 224 159 183 176 188 189 192 173 172 195\n",
    " 196 171 198 169 165 206 164 208 163 210 211 212 213 215 217 160 219 220\n",
    " 221 127 275 135 277  94 324 276 329  85  84 337 339  82 345 346 347 349\n",
    " 352 353 354  74  73 358 359 360  72 362 363  71 365 367  95 321 327 500\n",
    " 116 299 111 288 125 105 309 283 293 310 281 104 279 278 103 315  97 282\n",
    " 118  35 185  64 427 459 202  96 304 412 180 474 237 471 396 468 235 232\n",
    " 356 112]\n",
    "aedwip top values:\n",
    "[5528 5528 5528 5528 5528 5528 5528 5528 5528 5528 5528 5528 5528 5528\n",
    " 5528 5528 5528 5528 5528 5528 5528 5528 5528 5528 5528 5528 5528 5528\n",
    " 5528 5528 5528 5528 5528 5528 5528 5528 5528 5528 5528 5528 5528 5528\n",
    " 5528 5528 5528 5528 5528 5528 5528 5528 5528 5528 5528 5528 5528 5528\n",
    " 5528 5528 5528 5528 5528 5528 5528 5528 5528 5528 5528 5528 5528 5528\n",
    " 5528 5528 5528 5528 5528 5528 5528 5528 5528 5528 5528 5528 5528 5528\n",
    " 5528 5528 5528 5528 5528 5528 5528 5528 5528 5528 5528 5528 5528 5528\n",
    " 5528 5528 5528 5528 5528 5528 5528 5528 5528 5528 5528 5528 5528 5528\n",
    " 5528 5528 5528 5528 5528 5528 5528 5528 5528 5528 5528 5528 5528 5528\n",
    " 5528 5528 5528 5528 5528 5528 5528 5528 5528 5528 5528 5528 5528 5528\n",
    " 5528 5528 5528 5528 5528 5528 5528 5528 5528 5528 5528 5528 5528 5528\n",
    " 5528 5528 5528 5528 5528 5528 5528 5528 5528 5528 5528 5528 5528 5528\n",
    " 5528 5528 5528 5528 5528 5528 5528 5528 5528 5528 5528 5528 5528 5565\n",
    " 5565 5565 5565 5565 5565 5565 5565 5565 5565 5565 5565 5565 5565 5565\n",
    " 5565 5565 5565 5565]\n",
    " ```"
   ]
  },
  {
   "cell_type": "code",
   "execution_count": 13,
   "metadata": {
    "scrolled": false
   },
   "outputs": [
    {
     "name": "stdout",
     "output_type": "stream",
     "text": [
      "(16755, 501)\n",
      "[[False False False]\n",
      " [False False False]\n",
      " [False False False]]\n",
      "\n",
      "missing cols\n",
      "(501,)\n",
      "\n",
      "sortIdx:\n",
      "[  7   6 498  33 373 374 375  68   1  32 443 381  63  62 384 385   3 442\n",
      " 441   5 388 481  54  52 429  21 417 432  23 419 462 453 460 452 458  41\n",
      " 421 422 423 424 371 425 426 457  20  45 467 403 404 405 480 478 406  14\n",
      "  15 407  51  50 449 411  39 451  18 470  19  47  53 370 179 368 157 156\n",
      " 230 154 233 234 236 238 239 240 242 244 226 151 248 254 143 142 140 139\n",
      " 138 262 369 132 270 130 247 225 224 159 183 176 188 189 192 173 172 195\n",
      " 196 171 198 169 165 206 164 208 163 210 211 212 213 215 217 160 219 220\n",
      " 221 127 275 135 277  94 324 276 329  85  84 337 339  82 345 346 347 349\n",
      " 352 353 354  74  73 358 359 360  72 362 363  71 365 367  95 321 327 500\n",
      " 116 299 111 288 125 105 309 283 293 310 281 104 279 278 103 315  97 282\n",
      " 118  35 185  64 427 459 202  96 304 412 180 474 237 471 396 468 235 232\n",
      " 356 112]\n",
      "top values:\n",
      "[5528 5528 5528 5528 5528 5528 5528 5528 5528 5528 5528 5528 5528 5528\n",
      " 5528 5528 5528 5528 5528 5528 5528 5528 5528 5528 5528 5528 5528 5528\n",
      " 5528 5528 5528 5528 5528 5528 5528 5528 5528 5528 5528 5528 5528 5528\n",
      " 5528 5528 5528 5528 5528 5528 5528 5528 5528 5528 5528 5528 5528 5528\n",
      " 5528 5528 5528 5528 5528 5528 5528 5528 5528 5528 5528 5528 5528 5528\n",
      " 5528 5528 5528 5528 5528 5528 5528 5528 5528 5528 5528 5528 5528 5528\n",
      " 5528 5528 5528 5528 5528 5528 5528 5528 5528 5528 5528 5528 5528 5528\n",
      " 5528 5528 5528 5528 5528 5528 5528 5528 5528 5528 5528 5528 5528 5528\n",
      " 5528 5528 5528 5528 5528 5528 5528 5528 5528 5528 5528 5528 5528 5528\n",
      " 5528 5528 5528 5528 5528 5528 5528 5528 5528 5528 5528 5528 5528 5528\n",
      " 5528 5528 5528 5528 5528 5528 5528 5528 5528 5528 5528 5528 5528 5528\n",
      " 5528 5528 5528 5528 5528 5528 5528 5528 5528 5528 5528 5528 5528 5528\n",
      " 5528 5528 5528 5528 5528 5528 5528 5528 5528 5528 5528 5528 5528 5565\n",
      " 5565 5565 5565 5565 5565 5565 5565 5565 5565 5565 5565 5565 5565 5565\n",
      " 5565 5565 5565 5565]\n",
      "\n",
      "DescribeResult(nobs=501, minmax=(34, 5565), mean=2404.0738522954093, variance=7426520.136534929, skewness=0.27811865126830987, kurtosis=-1.9226236775821681)\n",
      "\n",
      "min:34 max:5565\n",
      "RSumsMax - RSumsMin = 5531\n"
     ]
    },
    {
     "data": {
      "image/png": "[encoded data removed]",
      "text/plain": [
       "<Figure size 432x288 with 1 Axes>"
      ]
     },
     "metadata": {
      "needs_background": "light"
     },
     "output_type": "display_data"
    },
    {
     "name": "stdout",
     "output_type": "stream",
     "text": [
      "\n",
      "missing rows\n",
      "(16755,)\n",
      "\n",
      "sortIdx:\n",
      "[ 2784  2785 12212 12239 12241 12263 12262 12261 12618  3019 12619  5458\n",
      "  8654 12254  3023  5456  3026  3027 12248  3028 12245 12244 12243 12621\n",
      "  3031  8672 12210  5560  3064 12184  3065  3066 12181  3067 12628 12179\n",
      "  5442  3070  8680 12174  8681  3073  2780  3074  5440  8683  8684 12186\n",
      "  3063  8677 12189 12208 12207  3050 12205  3051 12203  2781  3052  8673\n",
      "  3016  3054  3055  3056  8674 12196 12195 12194  3058  3059  8676 12627\n",
      "  2825  3015  3014 12344  2972 12341 12340 12339 12338 12337  2974  2789\n",
      " 12335 12334 12333  2975 12330  8634  2979 12326 12324 12615  2971 12323\n",
      " 12346 12348 12371 12370  2959  2960  2961  2962  2964  2965 12359  2791\n",
      "  2968  5557 12356 12355 12354 12353 12352 12351 12350  2970 12322  2981\n",
      "  2982 12289  3005 12285 12284  3006  2787 12282  5464  3008 12279  3010\n",
      " 12275 12274 12273  3012 12271 12270  5461 12268  3002 12291  2999  2998\n",
      " 12319  2983  2984 12316  8636  2986  2988  2989 12310 12266  2990  2992\n",
      "  2993 12302 12301  2996 12299 12298 12297  2788 12307  2823  1330 16036\n",
      " 11180 15577 10260 16315 16399 14117  5133  1809 16437 13015  5752 16216\n",
      "  6666  8889 12357   920 16683  8057  3347  5625  8052  7739  9039 13801\n",
      "  5314 11413  6444 11396 16096  1549  5313 12209]\n",
      "top values:\n",
      "[216 216 216 216 216 216 216 216 216 216 216 216 216 216 216 216 216 216\n",
      " 216 216 216 216 216 216 216 216 216 216 216 216 216 216 216 216 216 216\n",
      " 216 216 216 216 216 216 216 216 216 216 216 216 216 216 216 216 216 216\n",
      " 216 216 216 216 216 216 216 216 216 216 216 216 216 216 216 216 216 216\n",
      " 216 216 216 216 216 216 216 216 216 216 216 216 216 216 216 216 216 216\n",
      " 216 216 216 216 216 216 216 216 216 216 216 216 216 216 216 216 216 216\n",
      " 216 216 216 216 216 216 216 216 216 216 216 216 216 216 216 216 216 216\n",
      " 216 216 216 216 216 216 216 216 216 216 216 216 216 216 216 216 216 216\n",
      " 216 216 216 216 216 216 216 216 216 216 216 216 216 216 216 216 216 216\n",
      " 216 216 216 216 285 285 285 285 285 285 285 285 285 285 285 285 285 285\n",
      " 285 285 285 285 285 285 285 285 285 285 285 285 285 285 285 285 285 285\n",
      " 304 304]\n",
      "\n",
      "DescribeResult(nobs=16755, minmax=(0, 304), mean=71.88546702476873, variance=10390.165286571597, skewness=0.7171624519775496, kurtosis=-1.4777459468759677)\n",
      "\n",
      "min:0 max:304\n",
      "RSumsMax - RSumsMin = 304\n"
     ]
    },
    {
     "data": {
      "image/png": "[encoded data removed]",
      "text/plain": [
       "<Figure size 432x288 with 1 Axes>"
      ]
     },
     "metadata": {
      "needs_background": "light"
     },
     "output_type": "display_data"
    }
   ],
   "source": [
    "exploreLogical(missing, title=\"missing\")"
   ]
  },
  {
   "cell_type": "code",
   "execution_count": 20,
   "metadata": {},
   "outputs": [
    {
     "name": "stdout",
     "output_type": "stream",
     "text": [
      "(16755, 501)\n",
      "(16755,)\n",
      "[ 2988  2989 12310 12266  2990  2992  2993 12302 12301  2996 12299 12298\n",
      " 12297  2788 12307  2823  1330 16036 11180 15577 10260 16315 16399 14117\n",
      "  5133  1809 16437 13015  5752 16216  6666  8889 12357   920 16683  8057\n",
      "  3347  5625  8052  7739  9039 13801  5314 11413  6444 11396 16096  1549\n",
      "  5313 12209]\n",
      "\n",
      "[216 216 216 216 216 216 216 216 216 216 216 216 216 216 216 216 285 285\n",
      " 285 285 285 285 285 285 285 285 285 285 285 285 285 285 285 285 285 285\n",
      " 285 285 285 285 285 285 285 285 285 285 285 285 304 304]\n",
      "\n",
      "[0.43113772 0.43113772 0.43113772 0.43113772 0.43113772 0.43113772\n",
      " 0.43113772 0.43113772 0.43113772 0.43113772 0.43113772 0.43113772\n",
      " 0.43113772 0.43113772 0.43113772 0.43113772 0.56886228 0.56886228\n",
      " 0.56886228 0.56886228 0.56886228 0.56886228 0.56886228 0.56886228\n",
      " 0.56886228 0.56886228 0.56886228 0.56886228 0.56886228 0.56886228\n",
      " 0.56886228 0.56886228 0.56886228 0.56886228 0.56886228 0.56886228\n",
      " 0.56886228 0.56886228 0.56886228 0.56886228 0.56886228 0.56886228\n",
      " 0.56886228 0.56886228 0.56886228 0.56886228 0.56886228 0.56886228\n",
      " 0.60678643 0.60678643]\n",
      "\n",
      "\n",
      "percent:0.5 numToDrop34\n",
      "[285 285 285 285 285 285 304 285 285 285 285 285 285 285 285 285 285 285\n",
      " 285 285 285 304 285 285 285 285 285 285 285 285 285 285 285 285]\n",
      "\n",
      "[False False False False False]\n"
     ]
    }
   ],
   "source": [
    "def findGenesWithLotsOfMissingData(missing, percent):\n",
    "    \"\"\"\n",
    "    input:\n",
    "        missing: a logical matrix. one means value is missing, else zero\n",
    "        \n",
    "        precent: identify genes that are missing greater than percent values\n",
    "        \n",
    "    returns:\n",
    "        logical vector.\n",
    "    \"\"\"\n",
    "    rows, cols = missing.shape\n",
    "    print(missing.shape)\n",
    "    \n",
    "    rowAxis = 1\n",
    "    missingSums = np.sum(missing, axis=rowAxis)\n",
    "    print(missingSums.shape)\n",
    "    \n",
    "    percentMissing = missingSums / (1. * cols) # make sure denominator is a real num\n",
    "    idx = np.argsort(percentMissing)[-50:]\n",
    "    print(idx)\n",
    "    print()\n",
    "    print(missingSums[idx])\n",
    "    print()\n",
    "    print(percentMissing[idx])\n",
    "\n",
    "    print()\n",
    "    dropLogical = percentMissing > percent\n",
    "    print(\"\\npercent:{} numToDrop{}\".format(percent, np.sum(dropLogical))) \n",
    "    print(missingSums[dropLogical])\n",
    "    \n",
    "    return dropLogical\n",
    "\n",
    "dropLogical = findGenesWithLotsOfMissingData(missing, percent=0.50)\n",
    "\n",
    "print()\n",
    "print(dropLogical[0:5])"
   ]
  },
  {
   "cell_type": "markdown",
   "metadata": {},
   "source": [
    "## Candidate Genes to Drop\n",
    "\n",
    "```\n",
    "percent:0.5 numToDrop 34\n",
    "[285 285 285 285 285 285 304 285 285 285 285 285 285 285 285 285 285 285\n",
    " 285 285 285 304 285 285 285 285 285 285 285 285 285 285 285 285]\n",
    "```\n",
    "- percent:0.4 numToDrop 5555\n",
    "\n",
    "```\n",
    "percent:0.25 numToDrop 5562\n",
    "[216 216 216 ... 216 216 216]\n",
    "```\n",
    "\n",
    "```\n",
    "percent:0.1 numToDrop 5562\n",
    "[216 216 216 ... 216 216 216]\n",
    "```\n",
    "\n",
    "```\n",
    "percent:0.05 numToDrop 5562\n",
    "[216 216 216 ... 216 216 216]\n",
    "```\n",
    "\n",
    "```\n",
    "percent:0.01 numToDrop 5604\n",
    "[216  19 216 ... 216 216 216]\n",
    "```"
   ]
  },
  {
   "cell_type": "markdown",
   "metadata": {
    "variables": {
     " originalPercentMissing ": "<p><strong>NameError</strong>: name &#39;originalPercentMissing&#39; is not defined</p>\n"
    }
   },
   "source": [
    "## does data improve if we remove genes?\n",
    "hello {{ originalPercentMissing }} % of values in the raw data are 'NA'. What percentage of values are 'NA' if we remove? "
   ]
  },
  {
   "cell_type": "code",
   "execution_count": 18,
   "metadata": {},
   "outputs": [
    {
     "name": "stdout",
     "output_type": "stream",
     "text": [
      "(16755, 501)\n",
      "(16755,)\n",
      "[ 2988  2989 12310 12266  2990  2992  2993 12302 12301  2996 12299 12298\n",
      " 12297  2788 12307  2823  1330 16036 11180 15577 10260 16315 16399 14117\n",
      "  5133  1809 16437 13015  5752 16216  6666  8889 12357   920 16683  8057\n",
      "  3347  5625  8052  7739  9039 13801  5314 11413  6444 11396 16096  1549\n",
      "  5313 12209]\n",
      "\n",
      "[216 216 216 216 216 216 216 216 216 216 216 216 216 216 216 216 285 285\n",
      " 285 285 285 285 285 285 285 285 285 285 285 285 285 285 285 285 285 285\n",
      " 285 285 285 285 285 285 285 285 285 285 285 285 304 304]\n",
      "\n",
      "[0.43113772 0.43113772 0.43113772 0.43113772 0.43113772 0.43113772\n",
      " 0.43113772 0.43113772 0.43113772 0.43113772 0.43113772 0.43113772\n",
      " 0.43113772 0.43113772 0.43113772 0.43113772 0.56886228 0.56886228\n",
      " 0.56886228 0.56886228 0.56886228 0.56886228 0.56886228 0.56886228\n",
      " 0.56886228 0.56886228 0.56886228 0.56886228 0.56886228 0.56886228\n",
      " 0.56886228 0.56886228 0.56886228 0.56886228 0.56886228 0.56886228\n",
      " 0.56886228 0.56886228 0.56886228 0.56886228 0.56886228 0.56886228\n",
      " 0.56886228 0.56886228 0.56886228 0.56886228 0.56886228 0.56886228\n",
      " 0.60678643 0.60678643]\n",
      "\n",
      "\n",
      "percent:0.05 numToDrop5562\n",
      "[216 216 216 ... 216 216 216]\n",
      "(16755, 501)\n",
      "numGenesToDrop:5562\n",
      "clean data.shape:(11193, 501)\n",
      "size of clean data:5607693\n",
      "\n",
      "percent missing from clean data:0.00014230450918051326\n",
      "percent of genes dropped:0.3319606087735004\n"
     ]
    }
   ],
   "source": [
    "dropLogical = findGenesWithLotsOfMissingData(missing, percent=0.05)\n",
    "numGenesToDrop = np.sum(dropLogical)\n",
    "\n",
    "# dataStr is the raw data with out the cellLineNames or geneNames\n",
    "print(dataStr.shape)\n",
    "print(\"numGenesToDrop:{}\".format(numGenesToDrop))\n",
    "\n",
    "selectLocical = dropLogical == False\n",
    "cleanData = dataStr[selectLocical,:]\n",
    "print(\"clean data.shape:{}\".format(cleanData.shape))\n",
    "print(\"size of clean data:{}\".format(np.size(cleanData)))\n",
    "\n",
    "# print(\"check: numGenesToDrop:{} + cleanData.shape[0]:{} == {} == missing.shape[0] == {}\"\n",
    "#          .format(numGenesToDrop, cleanData.shape[0], \n",
    "#                  (numGenesToDrop + cleanData.shape[0]),\n",
    "#                  missing.shape[0] ))\n",
    "\n",
    "assert((numGenesToDrop + cleanData.shape[0]) == missing.shape[0])\n",
    "\n",
    "# calculate % 'NA' in cleanData\n",
    "missingFromClean = cleanData == 'NA' \n",
    "\n",
    "percentMissingFromClean = np.sum(missingFromClean) / np.size(cleanData)\n",
    "print()\n",
    "print(\"percent missing from clean data:{}\".format(percentMissingFromClean))\n",
    "print(\"percent of genes dropped:{}\".format( 1 - cleanData.shape[0]/ dataStr.shape[0]))"
   ]
  },
  {
   "cell_type": "code",
   "execution_count": null,
   "metadata": {},
   "outputs": [],
   "source": []
  }
 ],
 "metadata": {
  "kernelspec": {
   "display_name": "Python 3",
   "language": "python",
   "name": "python3"
  },
  "language_info": {
   "codemirror_mode": {
    "name": "ipython",
    "version": 3
   },
   "file_extension": ".py",
   "mimetype": "text/x-python",
   "name": "python",
   "nbconvert_exporter": "python",
   "pygments_lexer": "ipython3",
   "version": "3.7.6"
  }
 },
 "nbformat": 4,
 "nbformat_minor": 4
}
