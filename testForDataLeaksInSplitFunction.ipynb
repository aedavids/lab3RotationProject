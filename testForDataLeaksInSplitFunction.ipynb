{
 "cells": [
  {
   "cell_type": "markdown",
   "metadata": {},
   "source": [
    "# Test for data leaks in split()\n",
    "\n",
    "I noticed a couple of weeks ago that the \n",
    "\n",
    "```\n",
    "sum(RTrain == RValidation) != zero\n",
    "```\n",
    "\n",
    "more recently our auto encoder models have lower validation error than the traning sets. Could we have a data leak problem? I.E. we have examples that are in more than one set?"
   ]
  },
  {
   "cell_type": "code",
   "execution_count": 1,
   "metadata": {},
   "outputs": [
    {
     "name": "stdout",
     "output_type": "stream",
     "text": [
      "[INFO <ipython-input-1-a21b3a7d137a>:5 - <module>()] using logging configuration file:src/test/logging.test.ini.json\n"
     ]
    }
   ],
   "source": [
    "import logging\n",
    "from   setupLogging import setupLogging\n",
    "configFilePath = setupLogging( default_path='src/test/logging.test.ini.json')\n",
    "logger = logging.getLogger(\"notebook\")\n",
    "logger.info(\"using logging configuration file:{}\".format(configFilePath))\n",
    "\n",
    "from   DEMETER2.lowRankMatrixFactorizationEasyOfUse \\\n",
    "            import LowRankMatrixFactorizationEasyOfUse as LrmfEoU\n",
    "\n",
    "import numpy as np"
   ]
  },
  {
   "cell_type": "code",
   "execution_count": 2,
   "metadata": {},
   "outputs": [],
   "source": [
    "dataDir = \"data/\"\n",
    "dataFileName = \"D2_Achilles_gene_dep_scores.tsv\"\n",
    "numFeatures = 19\n",
    "geneFilterPercent = 0.25 \n",
    "holdOutPercent = 0.40 \n",
    "easyOfUse = LrmfEoU(dataDir, dataFileName, numFeatures, geneFilterPercent, holdOutPercent)"
   ]
  },
  {
   "cell_type": "code",
   "execution_count": 3,
   "metadata": {},
   "outputs": [],
   "source": [
    "resultsDict = easyOfUse.loadAll()"
   ]
  },
  {
   "cell_type": "code",
   "execution_count": 4,
   "metadata": {},
   "outputs": [
    {
     "name": "stdout",
     "output_type": "stream",
     "text": [
      "geneDependencies.shape:(11193, 501)\n",
      "genes.shape:(11193, 19)\n",
      "cellLines.shape:(501, 19)\n",
      "number of observed values in traning set: 3364160\n",
      "size of traning set: 5607693\n"
     ]
    }
   ],
   "source": [
    "# clean tidy version of demeter data\n",
    "Y, R, cellLinesNames, geneNames, = resultsDict[\"DEMETER2\"]\n",
    "geneDependencies = Y\n",
    "print(\"geneDependencies.shape:{}\".format(geneDependencies.shape))\n",
    "\n",
    "# trained model\n",
    "# scipy.optimize.OptimizeResult\n",
    "X, Theta, optimizeResult = resultsDict[\"LowRankMatrixFactorizationModel\"]\n",
    "genes = X\n",
    "print(\"genes.shape:{}\".format(genes.shape))\n",
    "cellLines = Theta\n",
    "print(\"cellLines.shape:{}\".format(cellLines.shape))\n",
    "\n",
    "# knockout logical filters. Use to select Y Train, Validations, and Test values\n",
    "RTrain, RValidation, RTest = resultsDict[\"filters\"]\n",
    "\n",
    "print(\"number of observed values in traning set: {}\".format(np.sum(RTrain)))\n",
    "print (\"size of traning set: {}\".format(np.size(RTrain)))"
   ]
  },
  {
   "cell_type": "markdown",
   "metadata": {},
   "source": [
    "# Test to see we have data leaks in the knockout matrices"
   ]
  },
  {
   "cell_type": "code",
   "execution_count": 5,
   "metadata": {},
   "outputs": [
    {
     "name": "stdout",
     "output_type": "stream",
     "text": [
      "totalR:5606895\n",
      "totalRTrain:3364160\n",
      "totalRValidate:1121380\n",
      "totalRTest:1121355\n",
      "\n",
      "totalRTrain + totalRValidation + totalRTest =  5606895\n"
     ]
    }
   ],
   "source": [
    "totalR = np.sum(R)\n",
    "print(\"totalR:{}\".format(totalR))\n",
    "\n",
    "totalRTrain = np.sum(RTrain)\n",
    "print(\"totalRTrain:{}\".format(totalRTrain))\n",
    "\n",
    "totalRValidation = np.sum(RValidation)\n",
    "print(\"totalRValidate:{}\".format(totalRValidation))\n",
    "\n",
    "totalRTest = np.sum(RTest)\n",
    "print(\"totalRTest:{}\".format(totalRTest))\n",
    "\n",
    "print()\n",
    "print(\"totalRTrain + totalRValidation + totalRTest =  {}\".\\\n",
    "     format(totalRTrain + totalRValidation + totalRTest))\n",
    "\n",
    "# weak evidence that we do not have a data leak, if there was a leak the lhs and rsh \n",
    "# would not be equal\n",
    "assert (totalR == totalRTrain + totalRValidation + totalRTest)"
   ]
  },
  {
   "cell_type": "code",
   "execution_count": 6,
   "metadata": {},
   "outputs": [
    {
     "name": "stdout",
     "output_type": "stream",
     "text": [
      "0\n",
      "0\n",
      "0\n"
     ]
    }
   ],
   "source": [
    "# if no data leak sum should be zero\n",
    "print( np.sum( np.multiply(RTrain, RValidation) ) )\n",
    "print( np.sum( np.multiply(RTrain, RTest) ) )\n",
    "print( np.sum( np.multiply(RValidation, RTest) ) )"
   ]
  },
  {
   "cell_type": "code",
   "execution_count": null,
   "metadata": {},
   "outputs": [],
   "source": []
  },
  {
   "cell_type": "code",
   "execution_count": 7,
   "metadata": {},
   "outputs": [],
   "source": [
    "# select the idx where R == 1\n",
    "# create 2 sets\n",
    "# A - B should be empty"
   ]
  },
  {
   "cell_type": "code",
   "execution_count": 8,
   "metadata": {
    "scrolled": true
   },
   "outputs": [
    {
     "name": "stdout",
     "output_type": "stream",
     "text": [
      "[[ True False False]\n",
      " [False  True False]\n",
      " [False False  True]]\n",
      "\n",
      "[[False False  True]\n",
      " [False  True False]\n",
      " [ True False False]]\n"
     ]
    }
   ],
   "source": [
    "# create some test data\n",
    "aR = np.eye(3, dtype=bool)\n",
    "print(aR)\n",
    "bR = np.flip(aR, 0)\n",
    "print()\n",
    "print(bR)"
   ]
  },
  {
   "cell_type": "code",
   "execution_count": 9,
   "metadata": {},
   "outputs": [
    {
     "name": "stdout",
     "output_type": "stream",
     "text": [
      "aRIdx:\n",
      "[[0 0]\n",
      " [1 1]\n",
      " [2 2]]\n",
      "\n",
      "bRIdx:\n",
      "[[0 2]\n",
      " [1 1]\n",
      " [2 0]]\n"
     ]
    }
   ],
   "source": [
    "# figure out how to get the idx for values = 1\n",
    "#aR[ aR == 1]\n",
    "aRIdx = np.argwhere(aR == 1)\n",
    "print(\"aRIdx:\\n{}\".format(aRIdx))\n",
    "\n",
    "bRIdx = np.argwhere(bR == 1)\n",
    "print(\"\\nbRIdx:\\n{}\".format(bRIdx))\n"
   ]
  },
  {
   "cell_type": "code",
   "execution_count": 10,
   "metadata": {},
   "outputs": [
    {
     "data": {
      "text/plain": [
       "array([[ True, False],\n",
       "       [ True,  True],\n",
       "       [ True, False]])"
      ]
     },
     "execution_count": 10,
     "metadata": {},
     "output_type": "execute_result"
    }
   ],
   "source": [
    "aRIdx == bRIdx"
   ]
  },
  {
   "cell_type": "code",
   "execution_count": 11,
   "metadata": {},
   "outputs": [
    {
     "name": "stdout",
     "output_type": "stream",
     "text": [
      "\n",
      "[False  True False]\n"
     ]
    }
   ],
   "source": [
    "# print( (aRIdx == bRIdx).all(axis=0) )\n",
    "print()\n",
    "\n",
    "# find the location in aRIdx == bRIdx where a and b are true\n",
    "print( (aRIdx == bRIdx).all(axis=1) )"
   ]
  },
  {
   "cell_type": "markdown",
   "metadata": {},
   "source": [
    "# is missing values reason validation error is lower than training\n",
    "git commit 5fdb1c9\n",
    "\n",
    "we are fill missing values in Y with tokenStr = '66,666,666.66666'\n",
    "\n",
    "we also removed a lot of genes. There are only 798 missing values.\n",
    "\n",
    "I thought well maybe the reason the validation error is lower is than test because it does not have any of these 798 extreme values. However when we run the knockout to select the data sets\n",
    "the extreme values get replaced with zero. So it does not account our problem"
   ]
  },
  {
   "cell_type": "code",
   "execution_count": 21,
   "metadata": {},
   "outputs": [
    {
     "name": "stdout",
     "output_type": "stream",
     "text": [
      "(11193, 501)\n",
      "798\n"
     ]
    }
   ],
   "source": [
    "token = 66666666.66666\n",
    "missingY = Y == token # np.where(Y == token)\n",
    "print(missingY.shape)\n",
    "print(sum( missingY.flatten() ))"
   ]
  },
  {
   "cell_type": "code",
   "execution_count": 40,
   "metadata": {},
   "outputs": [
    {
     "data": {
      "text/plain": [
       "array([ 2,  5, 11])"
      ]
     },
     "execution_count": 40,
     "metadata": {},
     "output_type": "execute_result"
    }
   ],
   "source": [
    "# fancy indexing example\n",
    "X = np.arange(12).reshape((3, 4))\n",
    "X\n",
    "\n",
    "row = np.array([0, 1, 2])\n",
    "col = np.array([2, 1, 3])\n",
    "X[row, col]"
   ]
  },
  {
   "cell_type": "code",
   "execution_count": 28,
   "metadata": {},
   "outputs": [
    {
     "name": "stdout",
     "output_type": "stream",
     "text": [
      "(798, 2)\n",
      "[[11 35]\n",
      " [11 64]\n",
      " [11 96]]\n"
     ]
    }
   ],
   "source": [
    "missingYIdx = np.argwhere(Y == token)\n",
    "print(missingYIdx.shape)\n",
    "print(missingYIdx[0:3])"
   ]
  }
 ],
 "metadata": {
  "kernelspec": {
   "display_name": "Python 3",
   "language": "python",
   "name": "python3"
  },
  "language_info": {
   "codemirror_mode": {
    "name": "ipython",
    "version": 3
   },
   "file_extension": ".py",
   "mimetype": "text/x-python",
   "name": "python",
   "nbconvert_exporter": "python",
   "pygments_lexer": "ipython3",
   "version": "3.7.6"
  }
 },
 "nbformat": 4,
 "nbformat_minor": 4
}
