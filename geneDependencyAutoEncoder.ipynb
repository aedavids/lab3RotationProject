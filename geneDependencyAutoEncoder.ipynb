{
 "cells": [
  {
   "cell_type": "markdown",
   "metadata": {},
   "source": [
    "# Gene Dependency Auto Encoder\n",
    "\n",
    "Evaluate the Low Rank Matrix Factorization Model with 19 learned features by training a true auto encoder with a bottle neck size of 10. In theory the auto encoder should be better because it can learn a non linear embedding. How ever it will need to learn a large number of features\n",
    "\n",
    "One of the other uses of this notebook is to debug the deep architectures. We noticed that the validation error is often bellow the training error. This suggest a bug. see the presentation presentations/status-2020-03-13.pptx for an overview of how to debug.\n",
    "\n",
    "ref:\n",
    "- [https://www.tensorflow.org/guide/keras/train_and_evaluate](https://www.tensorflow.org/guide/keras/train_and_evaluate)\n",
    "- [https://www.tensorflow.org/tutorials/keras/overfit_and_underfit](https://www.tensorflow.org/tutorials/keras/overfit_and_underfit)"
   ]
  },
  {
   "cell_type": "code",
   "execution_count": 1,
   "metadata": {},
   "outputs": [
    {
     "name": "stdout",
     "output_type": "stream",
     "text": [
      "[INFO <ipython-input-1-94f26ec5a80a>:5 - <module>()] using logging configuration file:src/test/logging.test.ini.json\n"
     ]
    }
   ],
   "source": [
    "import logging\n",
    "from   setupLogging import setupLogging\n",
    "configFilePath = setupLogging( default_path='src/test/logging.test.ini.json')\n",
    "logger = logging.getLogger(\"notebook\")\n",
    "logger.info(\"using logging configuration file:{}\".format(configFilePath))\n",
    "\n",
    "from   DEMETER2.lowRankMatrixFactorizationEasyOfUse \\\n",
    "            import LowRankMatrixFactorizationEasyOfUse as LrmfEoU\n",
    "\n",
    "import matplotlib.pyplot as plt\n",
    "import numpy as np\n",
    "import pandas as pd\n",
    "from sklearn.metrics import r2_score\n",
    "from sklearn.model_selection import train_test_split\n",
    "import tensorflow as tf\n",
    "from tensorflow import keras\n",
    "from tensorflow.keras.models import Sequential, Model\n",
    "from tensorflow.keras import layers\n",
    "from tensorflow.keras.layers import Dense, Input\n",
    "from tensorflow.keras import optimizers\n",
    "from tensorflow.keras.optimizers import Adam"
   ]
  },
  {
   "cell_type": "code",
   "execution_count": 2,
   "metadata": {},
   "outputs": [],
   "source": [
    "dataDir = \"data/\"\n",
    "dataFileName = \"D2_Achilles_gene_dep_scores.tsv\"\n",
    "numFeatures = 19\n",
    "geneFilterPercent = 0.25 \n",
    "holdOutPercent = 0.40 \n",
    "easyOfUse = LrmfEoU(dataDir, dataFileName, numFeatures, geneFilterPercent, holdOutPercent)"
   ]
  },
  {
   "cell_type": "code",
   "execution_count": 3,
   "metadata": {},
   "outputs": [],
   "source": [
    "resultsDict = easyOfUse.loadAll()"
   ]
  },
  {
   "cell_type": "code",
   "execution_count": 4,
   "metadata": {},
   "outputs": [
    {
     "name": "stdout",
     "output_type": "stream",
     "text": [
      "geneDependencies.shape:(11193, 501)\n",
      "genes.shape:(11193, 19)\n",
      "cellLines.shape:(501, 19)\n",
      "number of observed values in traning set: 3364160\n",
      "size of traning set: 5607693\n"
     ]
    }
   ],
   "source": [
    "# clean tidy version of demeter data\n",
    "Y, R, cellLinesNames, geneNames, = resultsDict[\"DEMETER2\"]\n",
    "geneDependencies = Y\n",
    "print(\"geneDependencies.shape:{}\".format(geneDependencies.shape))\n",
    "\n",
    "# trained model\n",
    "# scipy.optimize.OptimizeResult\n",
    "X, Theta, optimizeResult = resultsDict[\"LowRankMatrixFactorizationModel\"]\n",
    "genes = X\n",
    "print(\"genes.shape:{}\".format(genes.shape))\n",
    "cellLines = Theta\n",
    "print(\"cellLines.shape:{}\".format(cellLines.shape))\n",
    "\n",
    "# knockout logical filters. Use to select Y Train, Validations, and Test values\n",
    "RTrain, RValidation, RTest = resultsDict[\"filters\"]\n",
    "\n",
    "print(\"number of observed values in traning set: {}\".format(np.sum(RTrain)))\n",
    "print (\"size of traning set: {}\".format(np.size(RTrain)))"
   ]
  },
  {
   "cell_type": "code",
   "execution_count": null,
   "metadata": {},
   "outputs": [],
   "source": []
  },
  {
   "cell_type": "markdown",
   "metadata": {},
   "source": [
    "### Deep"
   ]
  },
  {
   "cell_type": "code",
   "execution_count": 5,
   "metadata": {},
   "outputs": [],
   "source": [
    "import DEMETER2.AutoEncoderModelArchitectures as aema\n",
    "\n",
    "# use tf.data Dataset instead of numpy if data does not fit into memory\n",
    "# TODO: AEDWIP: add shuffle. I do not think it will make much difference\n",
    "trainingData = np.multiply(geneDependencies, RTrain)\n",
    "validateData = np.multiply(geneDependencies, RValidation)"
   ]
  },
  {
   "cell_type": "code",
   "execution_count": 6,
   "metadata": {},
   "outputs": [],
   "source": [
    "# https://www.tensorflow.org/tutorials/keras/overfit_and_underfit#training_procedure\n",
    "# Many models train better if you gradually reduce the learning rate during training.\n",
    "BATCH_SIZE=1024\n",
    "N_TRAIN = trainingData.shape[0]\n",
    "STEPS_PER_EPOCH = N_TRAIN//BATCH_SIZE\n",
    "lr_schedule = tf.keras.optimizers.schedules.InverseTimeDecay(\n",
    "  0.001,\n",
    "  decay_steps=STEPS_PER_EPOCH*1000,\n",
    "  decay_rate=1,\n",
    "  staircase=False)\n",
    "\n",
    "adam = tf.keras.optimizers.Adam(lr_schedule)"
   ]
  },
  {
   "cell_type": "code",
   "execution_count": 7,
   "metadata": {},
   "outputs": [],
   "source": [
    "# https://www.tensorflow.org/api_docs/python/tf/keras/callbacks/EarlyStopping\n",
    "# TODO: look at optional arguments\n",
    "def get_callbacks(name):\n",
    "  return [\n",
    "    tfdocs.modeling.EpochDots(),\n",
    "    tf.keras.callbacks.EarlyStopping(monitor=' val_loss'),\n",
    "    tf.keras.callbacks.TensorBoard(logdir/name),\n",
    "  ]"
   ]
  },
  {
   "cell_type": "code",
   "execution_count": 8,
   "metadata": {},
   "outputs": [
    {
     "ename": "NameError",
     "evalue": "name 'tfdocs' is not defined",
     "output_type": "error",
     "traceback": [
      "\u001b[0;31m---------------------------------------------------------------------------\u001b[0m",
      "\u001b[0;31mNameError\u001b[0m                                 Traceback (most recent call last)",
      "\u001b[0;32m<timed exec>\u001b[0m in \u001b[0;36m<module>\u001b[0;34m\u001b[0m\n",
      "\u001b[0;32m<ipython-input-7-01e399f2107b>\u001b[0m in \u001b[0;36mget_callbacks\u001b[0;34m(name)\u001b[0m\n\u001b[1;32m      3\u001b[0m \u001b[0;32mdef\u001b[0m \u001b[0mget_callbacks\u001b[0m\u001b[0;34m(\u001b[0m\u001b[0mname\u001b[0m\u001b[0;34m)\u001b[0m\u001b[0;34m:\u001b[0m\u001b[0;34m\u001b[0m\u001b[0;34m\u001b[0m\u001b[0m\n\u001b[1;32m      4\u001b[0m   return [\n\u001b[0;32m----> 5\u001b[0;31m     \u001b[0mtfdocs\u001b[0m\u001b[0;34m.\u001b[0m\u001b[0mmodeling\u001b[0m\u001b[0;34m.\u001b[0m\u001b[0mEpochDots\u001b[0m\u001b[0;34m(\u001b[0m\u001b[0;34m)\u001b[0m\u001b[0;34m,\u001b[0m\u001b[0;34m\u001b[0m\u001b[0;34m\u001b[0m\u001b[0m\n\u001b[0m\u001b[1;32m      6\u001b[0m     \u001b[0mtf\u001b[0m\u001b[0;34m.\u001b[0m\u001b[0mkeras\u001b[0m\u001b[0;34m.\u001b[0m\u001b[0mcallbacks\u001b[0m\u001b[0;34m.\u001b[0m\u001b[0mEarlyStopping\u001b[0m\u001b[0;34m(\u001b[0m\u001b[0mmonitor\u001b[0m\u001b[0;34m=\u001b[0m\u001b[0;34m' val_loss'\u001b[0m\u001b[0;34m)\u001b[0m\u001b[0;34m,\u001b[0m\u001b[0;34m\u001b[0m\u001b[0;34m\u001b[0m\u001b[0m\n\u001b[1;32m      7\u001b[0m     \u001b[0mtf\u001b[0m\u001b[0;34m.\u001b[0m\u001b[0mkeras\u001b[0m\u001b[0;34m.\u001b[0m\u001b[0mcallbacks\u001b[0m\u001b[0;34m.\u001b[0m\u001b[0mTensorBoard\u001b[0m\u001b[0;34m(\u001b[0m\u001b[0mlogdir\u001b[0m\u001b[0;34m/\u001b[0m\u001b[0mname\u001b[0m\u001b[0;34m)\u001b[0m\u001b[0;34m,\u001b[0m\u001b[0;34m\u001b[0m\u001b[0;34m\u001b[0m\u001b[0m\n",
      "\u001b[0;31mNameError\u001b[0m: name 'tfdocs' is not defined"
     ]
    }
   ],
   "source": [
    "meaningOfLife = 42\n",
    "np.random.seed(meaningOfLife)\n",
    "tf.random.set_seed(meaningOfLife)\n",
    "\n",
    "\n",
    "builder = aema.AutoEncoderModelArchitectures(trainingDataShape=trainingData.shape,\n",
    "                                             encodingDimensions=19, \n",
    "                                             optimizer=adam, \n",
    "                                             loss='mean_squared_error',\n",
    "                                             metrics=['accuracy', 'mse'])\n",
    "\n",
    "\n",
    "# autoencoderModel = builder.l5Arch()\n",
    "# autoencoderModel = builder.simpleArch()\n",
    "autoencoderModel = builder.debugArch()\n",
    "\n",
    "%time history = autoencoderModel.fit(\\\n",
    "                                    trainingData, \\\n",
    "                                    trainingData, \\\n",
    "                                    batch_size=BATCH_SIZE, \\\n",
    "                                    epochs=15, \\\n",
    "                                    callbacks=get_callbacks(\"AEDWIP_NAME\"), \\\n",
    "                                    verbose=1, \\\n",
    "                                    validation_data=(validateData,validateData) )\n",
    "\n",
    "# %time history = autoencoderModel.fit(\\\n",
    "#                                     trainingData, \\\n",
    "#                                     trainingData, \\\n",
    "#                                     epochs=15, \\\n",
    "#                                     verbose=1, \\\n",
    "#                                     validation_data=(validateData,validateData) )"
   ]
  },
  {
   "cell_type": "code",
   "execution_count": 9,
   "metadata": {},
   "outputs": [
    {
     "data": {
      "text/plain": [
       "3646"
      ]
     },
     "execution_count": 9,
     "metadata": {},
     "output_type": "execute_result"
    }
   ],
   "source": [
    "autoencoderModel.count_params()"
   ]
  },
  {
   "cell_type": "code",
   "execution_count": 10,
   "metadata": {},
   "outputs": [
    {
     "name": "stdout",
     "output_type": "stream",
     "text": [
      "hyper parameters:\n",
      "traningDataShape:(11193, 501) \n",
      "numFeatures:501 \n",
      "encodingDimensions:19\n",
      "optimizer:<tensorflow.python.keras.optimizer_v2.adam.Adam object at 0x7fe3c6011350> \n",
      "loss:mean_squared_error \n",
      "metrics:['accuracy', 'mse']\n",
      "\n",
      "Model: \"sequential\"\n",
      "_________________________________________________________________\n",
      "Layer (type)                 Output Shape              Param #   \n",
      "=================================================================\n",
      "e064 (Dense)                 (None, 3)                 1506      \n",
      "_________________________________________________________________\n",
      "bottleneck (Dense)           (None, 19)                76        \n",
      "_________________________________________________________________\n",
      "d064 (Dense)                 (None, 3)                 60        \n",
      "_________________________________________________________________\n",
      "dOut (Dense)                 (None, 501)               2004      \n",
      "=================================================================\n",
      "Total params: 3,646\n",
      "Trainable params: 3,646\n",
      "Non-trainable params: 0\n",
      "_________________________________________________________________\n"
     ]
    }
   ],
   "source": [
    "print(\"hyper parameters:\\n{}\\n\".format(builder))\n",
    "autoencoderModel.summary()"
   ]
  },
  {
   "cell_type": "code",
   "execution_count": 11,
   "metadata": {},
   "outputs": [
    {
     "name": "stdout",
     "output_type": "stream",
     "text": [
      "\n",
      "total training loss: 429.5982666015625\n",
      "\n",
      "total validation loss: 143.33135986328125\n"
     ]
    }
   ],
   "source": [
    "predictedTrain = autoencoderModel.predict(trainingData)\n",
    "trainingLoss = tf.keras.losses.mean_squared_error(trainingData, predictedTrain)\n",
    "print(\"\\ntotal training loss: {}\".format(np.sum(trainingLoss)))\n",
    "\n",
    "predictedVal = autoencoderModel.predict(validateData)\n",
    "validationLoss =  tf.keras.losses.mean_squared_error(validateData, predictedVal)\n",
    "print(\"\\ntotal validation loss: {}\".format(np.sum(validationLoss)))"
   ]
  },
  {
   "cell_type": "code",
   "execution_count": 12,
   "metadata": {},
   "outputs": [
    {
     "ename": "NameError",
     "evalue": "name 'history' is not defined",
     "output_type": "error",
     "traceback": [
      "\u001b[0;31m---------------------------------------------------------------------------\u001b[0m",
      "\u001b[0;31mNameError\u001b[0m                                 Traceback (most recent call last)",
      "\u001b[0;32m<ipython-input-12-1b5bba28e532>\u001b[0m in \u001b[0;36m<module>\u001b[0;34m\u001b[0m\n\u001b[1;32m      1\u001b[0m \u001b[0mplt\u001b[0m\u001b[0;34m.\u001b[0m\u001b[0mtitle\u001b[0m\u001b[0;34m(\u001b[0m\u001b[0;34m'Loss'\u001b[0m\u001b[0;34m)\u001b[0m\u001b[0;34m\u001b[0m\u001b[0;34m\u001b[0m\u001b[0m\n\u001b[1;32m      2\u001b[0m \u001b[0mplt\u001b[0m\u001b[0;34m.\u001b[0m\u001b[0mxlabel\u001b[0m\u001b[0;34m(\u001b[0m\u001b[0;34m'epocs'\u001b[0m\u001b[0;34m)\u001b[0m\u001b[0;34m\u001b[0m\u001b[0;34m\u001b[0m\u001b[0m\n\u001b[0;32m----> 3\u001b[0;31m \u001b[0mplt\u001b[0m\u001b[0;34m.\u001b[0m\u001b[0mplot\u001b[0m\u001b[0;34m(\u001b[0m\u001b[0mhistory\u001b[0m\u001b[0;34m.\u001b[0m\u001b[0mhistory\u001b[0m\u001b[0;34m[\u001b[0m\u001b[0;34m'loss'\u001b[0m\u001b[0;34m]\u001b[0m\u001b[0;34m,\u001b[0m \u001b[0mlabel\u001b[0m\u001b[0;34m=\u001b[0m\u001b[0;34m'train'\u001b[0m\u001b[0;34m)\u001b[0m\u001b[0;34m\u001b[0m\u001b[0;34m\u001b[0m\u001b[0m\n\u001b[0m\u001b[1;32m      4\u001b[0m \u001b[0mplt\u001b[0m\u001b[0;34m.\u001b[0m\u001b[0mplot\u001b[0m\u001b[0;34m(\u001b[0m\u001b[0mhistory\u001b[0m\u001b[0;34m.\u001b[0m\u001b[0mhistory\u001b[0m\u001b[0;34m[\u001b[0m\u001b[0;34m'val_loss'\u001b[0m\u001b[0;34m]\u001b[0m\u001b[0;34m,\u001b[0m \u001b[0mlabel\u001b[0m\u001b[0;34m=\u001b[0m\u001b[0;34m'val'\u001b[0m\u001b[0;34m)\u001b[0m\u001b[0;34m\u001b[0m\u001b[0;34m\u001b[0m\u001b[0m\n\u001b[1;32m      5\u001b[0m \u001b[0mplt\u001b[0m\u001b[0;34m.\u001b[0m\u001b[0mlegend\u001b[0m\u001b[0;34m(\u001b[0m\u001b[0;34m)\u001b[0m\u001b[0;34m\u001b[0m\u001b[0;34m\u001b[0m\u001b[0m\n",
      "\u001b[0;31mNameError\u001b[0m: name 'history' is not defined"
     ]
    },
    {
     "data": {
      "image/png": "[encoded data removed]",
      "text/plain": [
       "<Figure size 432x288 with 1 Axes>"
      ]
     },
     "metadata": {
      "needs_background": "light"
     },
     "output_type": "display_data"
    }
   ],
   "source": [
    "plt.title('Loss')\n",
    "plt.xlabel('epocs')\n",
    "plt.plot(history.history['loss'], label='train')\n",
    "plt.plot(history.history['val_loss'], label='val')\n",
    "plt.legend()\n",
    "plt.show()"
   ]
  },
  {
   "cell_type": "code",
   "execution_count": null,
   "metadata": {},
   "outputs": [],
   "source": [
    "# ?? https://stats.stackexchange.com/a/325602\n",
    "# https://twitter.com/aureliengeron/status/1110839223878184960\n",
    "plt.title('Mean Squared Error')\n",
    "plt.xlabel('epocs')\n",
    "plt.plot(history.history['mse'], label='train')\n",
    "plt.plot(history.history['val_mse'], label='val')\n",
    "plt.legend()\n",
    "plt.show()"
   ]
  },
  {
   "cell_type": "code",
   "execution_count": null,
   "metadata": {},
   "outputs": [],
   "source": [
    "plt.title('Accuracy')\n",
    "plt.xlabel('epocs')\n",
    "plt.plot(history.history['accuracy'], label='train')\n",
    "plt.plot(history.history['val_accuracy'], label='val')\n",
    "plt.legend()\n",
    "plt.show()"
   ]
  },
  {
   "cell_type": "markdown",
   "metadata": {},
   "source": [
    "# Results\n",
    "\n",
    "simpleArch()\n",
    "```\n",
    "totalLoss: 415.3407287597656\n",
    "\n",
    "Model: \"sequential\"\n",
    "_________________________________________________________________\n",
    "Layer (type)                 Output Shape              Param #   \n",
    "=================================================================\n",
    "e064 (Dense)                 (None, 64)                32128     \n",
    "_________________________________________________________________\n",
    "bottleneck (Dense)           (None, 19)                1235      \n",
    "_________________________________________________________________\n",
    "d064 (Dense)                 (None, 64)                1280      \n",
    "_________________________________________________________________\n",
    "dOut (Dense)                 (None, 501)               32565     \n",
    "=================================================================\n",
    "Total params: 67,208\n",
    "Trainable params: 67,208\n",
    "Non-trainable params: 0\n",
    "```\n",
    "\n",
    "l3Arch()\n",
    "```\n",
    "totalLoss: 417.01519775390625\n",
    "\n",
    "Model: \"sequential\"\n",
    "_________________________________________________________________\n",
    "Layer (type)                 Output Shape              Param #   \n",
    "=================================================================\n",
    "e128 (Dense)                 (None, 128)               64256     \n",
    "_________________________________________________________________\n",
    "e064 (Dense)                 (None, 64)                8256      \n",
    "_________________________________________________________________\n",
    "bottleneck (Dense)           (None, 19)                1235      \n",
    "_________________________________________________________________\n",
    "d064 (Dense)                 (None, 64)                1280      \n",
    "_________________________________________________________________\n",
    "d128 (Dense)                 (None, 128)               8320      \n",
    "_________________________________________________________________\n",
    "dOut (Dense)                 (None, 501)               64629     \n",
    "=================================================================\n",
    "Total params: 147,976\n",
    "Trainable params: 147,976\n",
    "Non-trainable params: 0\n",
    "_________________________\n",
    "```\n",
    "\n",
    "l5Arch()\n",
    "```\n",
    "totalLoss: 418.174072265625\n",
    "Model: \"sequential\"\n",
    "_________________________________________________________________\n",
    "Layer (type)                 Output Shape              Param #   \n",
    "=================================================================\n",
    "e256 (Dense)                 (None, 256)               128512    \n",
    "_________________________________________________________________\n",
    "e128 (Dense)                 (None, 128)               32896     \n",
    "_________________________________________________________________\n",
    "e064 (Dense)                 (None, 64)                8256      \n",
    "_________________________________________________________________\n",
    "bottleneck (Dense)           (None, 19)                1235      \n",
    "_________________________________________________________________\n",
    "d064 (Dense)                 (None, 64)                1280      \n",
    "_________________________________________________________________\n",
    "d128 (Dense)                 (None, 128)               8320      \n",
    "_________________________________________________________________\n",
    "d256 (Dense)                 (None, 256)               33024     \n",
    "_________________________________________________________________\n",
    "dOut (Dense)                 (None, 501)               128757    \n",
    "=================================================================\n",
    "Total params: 342,280\n",
    "Trainable params: 342,280\n",
    "Non-trainable params: 0\n",
    "```"
   ]
  },
  {
   "cell_type": "code",
   "execution_count": null,
   "metadata": {},
   "outputs": [],
   "source": []
  }
 ],
 "metadata": {
  "kernelspec": {
   "display_name": "Python 3",
   "language": "python",
   "name": "python3"
  },
  "language_info": {
   "codemirror_mode": {
    "name": "ipython",
    "version": 3
   },
   "file_extension": ".py",
   "mimetype": "text/x-python",
   "name": "python",
   "nbconvert_exporter": "python",
   "pygments_lexer": "ipython3",
   "version": "3.7.6"
  },
  "varInspector": {
   "cols": {
    "lenName": 16,
    "lenType": 16,
    "lenVar": 40
   },
   "kernels_config": {
    "python": {
     "delete_cmd_postfix": "",
     "delete_cmd_prefix": "del ",
     "library": "var_list.py",
     "varRefreshCmd": "print(var_dic_list())"
    },
    "r": {
     "delete_cmd_postfix": ") ",
     "delete_cmd_prefix": "rm(",
     "library": "var_list.r",
     "varRefreshCmd": "cat(var_dic_list()) "
    }
   },
   "types_to_exclude": [
    "module",
    "function",
    "builtin_function_or_method",
    "instance",
    "_Feature"
   ],
   "window_display": false
  }
 },
 "nbformat": 4,
 "nbformat_minor": 4
}
