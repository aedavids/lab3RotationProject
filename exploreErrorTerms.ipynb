{
 "cells": [
  {
   "cell_type": "markdown",
   "metadata": {},
   "source": [
    "# Explore Error Terms\n",
    "why does the validation set outperform the traning set? "
   ]
  },
  {
   "cell_type": "code",
   "execution_count": 1,
   "metadata": {},
   "outputs": [
    {
     "name": "stdout",
     "output_type": "stream",
     "text": [
      "[INFO <ipython-input-1-a21b3a7d137a>:5 - <module>()] using logging configuration file:src/test/logging.test.ini.json\n"
     ]
    }
   ],
   "source": [
    "import logging\n",
    "from   setupLogging import setupLogging\n",
    "configFilePath = setupLogging( default_path='src/test/logging.test.ini.json')\n",
    "logger = logging.getLogger(\"notebook\")\n",
    "logger.info(\"using logging configuration file:{}\".format(configFilePath))\n",
    "\n",
    "from   DEMETER2.lowRankMatrixFactorizationEasyOfUse \\\n",
    "            import LowRankMatrixFactorizationEasyOfUse as LrmfEoU\n",
    "\n",
    "import numpy as np"
   ]
  },
  {
   "cell_type": "code",
   "execution_count": 2,
   "metadata": {},
   "outputs": [],
   "source": [
    "dataDir = \"data/\"\n",
    "dataFileName = \"D2_Achilles_gene_dep_scores.tsv\"\n",
    "numFeatures = 19\n",
    "geneFilterPercent = 0.25 \n",
    "holdOutPercent = 0.40 \n",
    "easyOfUse = LrmfEoU(dataDir, dataFileName, numFeatures, geneFilterPercent, holdOutPercent)"
   ]
  },
  {
   "cell_type": "code",
   "execution_count": 3,
   "metadata": {},
   "outputs": [],
   "source": [
    "resultsDict = easyOfUse.loadAll()"
   ]
  },
  {
   "cell_type": "code",
   "execution_count": 4,
   "metadata": {},
   "outputs": [
    {
     "name": "stdout",
     "output_type": "stream",
     "text": [
      "geneDependencies.shape:(11193, 501)\n",
      "genes.shape:(11193, 19)\n",
      "cellLines.shape:(501, 19)\n",
      "number of observed values in traning set: 3364160\n",
      "size of traning set: 5607693\n"
     ]
    }
   ],
   "source": [
    "# clean tidy version of demeter data\n",
    "Y, R, cellLinesNames, geneNames, = resultsDict[\"DEMETER2\"]\n",
    "geneDependencies = Y\n",
    "print(\"geneDependencies.shape:{}\".format(geneDependencies.shape))\n",
    "\n",
    "# trained model\n",
    "# scipy.optimize.OptimizeResult\n",
    "X, Theta, optimizeResult = resultsDict[\"LowRankMatrixFactorizationModel\"]\n",
    "genes = X\n",
    "print(\"genes.shape:{}\".format(genes.shape))\n",
    "cellLines = Theta\n",
    "print(\"cellLines.shape:{}\".format(cellLines.shape))\n",
    "\n",
    "# knockout logical filters. Use to select Y Train, Validations, and Test values\n",
    "RTrain, RValidation, RTest = resultsDict[\"filters\"]\n",
    "\n",
    "print(\"number of observed values in traning set: {}\".format(np.sum(RTrain)))\n",
    "print (\"size of traning set: {}\".format(np.size(RTrain)))"
   ]
  },
  {
   "cell_type": "markdown",
   "metadata": {},
   "source": [
    "## Select the training set and explore"
   ]
  },
  {
   "cell_type": "code",
   "execution_count": 5,
   "metadata": {},
   "outputs": [
    {
     "name": "stdout",
     "output_type": "stream",
     "text": [
      "number of observed values in traning set: -202010.67223171424\n",
      "size of traning set: 5607693\n"
     ]
    }
   ],
   "source": [
    "train = np.multiply(Y, RTrain)\n",
    "print (\"size of traning set: {}\".format(np.size(train)))"
   ]
  },
  {
   "cell_type": "code",
   "execution_count": 17,
   "metadata": {},
   "outputs": [
    {
     "name": "stdout",
     "output_type": "stream",
     "text": [
      "train set descriptive stats\n",
      "\n",
      "min  : -2.6574\n",
      "max  : +1.7028\n",
      "mean : -0.0360\n",
      "std  : +0.1915\n",
      "0.25 : -1.2744\n",
      "0.50 : -1.1213\n",
      "0.75 : -1.0035\n"
     ]
    }
   ],
   "source": [
    "print(\"train set descriptive stats\\n\")\n",
    "print( \"min  : {:+6.4f}\".format(np.min(train) ))\n",
    "print( \"max  : {:+6.4f}\".format(np.max(train) ))\n",
    "print( \"mean : {:+6.4f}\".format(np.mean(train) ))\n",
    "print( \"std  : {:+6.4f}\".format(np.std(train) ))\n",
    "print( \"0.25 : {:+6.4f}\".format(np.percentile(train, 0.25) ))\n",
    "print( \"0.50 : {:+6.4f}\".format(np.percentile(train, 0.50) ))\n",
    "print( \"0.75 : {:+6.4f}\".format(np.percentile(train, 0.75) ))"
   ]
  },
  {
   "cell_type": "code",
   "execution_count": null,
   "metadata": {},
   "outputs": [],
   "source": []
  }
 ],
 "metadata": {
  "kernelspec": {
   "display_name": "Python 3",
   "language": "python",
   "name": "python3"
  },
  "language_info": {
   "codemirror_mode": {
    "name": "ipython",
    "version": 3
   },
   "file_extension": ".py",
   "mimetype": "text/x-python",
   "name": "python",
   "nbconvert_exporter": "python",
   "pygments_lexer": "ipython3",
   "version": "3.7.6"
  },
  "varInspector": {
   "cols": {
    "lenName": 16,
    "lenType": 16,
    "lenVar": 40
   },
   "kernels_config": {
    "python": {
     "delete_cmd_postfix": "",
     "delete_cmd_prefix": "del ",
     "library": "var_list.py",
     "varRefreshCmd": "print(var_dic_list())"
    },
    "r": {
     "delete_cmd_postfix": ") ",
     "delete_cmd_prefix": "rm(",
     "library": "var_list.r",
     "varRefreshCmd": "cat(var_dic_list()) "
    }
   },
   "types_to_exclude": [
    "module",
    "function",
    "builtin_function_or_method",
    "instance",
    "_Feature"
   ],
   "window_display": false
  }
 },
 "nbformat": 4,
 "nbformat_minor": 4
}
